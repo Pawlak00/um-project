{
  "cells": [
    {
      "cell_type": "code",
      "execution_count": 1,
      "metadata": {
        "colab": {
          "base_uri": "https://localhost:8080/"
        },
        "id": "2LTgKFNLbvdO",
        "outputId": "b1e9f6be-897d-4e74-90f2-642afd55e920"
      },
      "outputs": [
        {
          "output_type": "stream",
          "name": "stdout",
          "text": [
            "Cloning into 'AutoESN'...\n",
            "remote: Enumerating objects: 598, done.\u001b[K\n",
            "remote: Counting objects: 100% (34/34), done.\u001b[K\n",
            "remote: Compressing objects: 100% (28/28), done.\u001b[K\n",
            "remote: Total 598 (delta 14), reused 6 (delta 6), pack-reused 564\u001b[K\n",
            "Receiving objects: 100% (598/598), 433.19 KiB | 10.07 MiB/s, done.\n",
            "Resolving deltas: 100% (347/347), done.\n"
          ]
        }
      ],
      "source": [
        "!git clone https://github.com/Ro6ertWcislo/AutoESN.git"
      ]
    },
    {
      "cell_type": "code",
      "execution_count": 2,
      "metadata": {
        "colab": {
          "base_uri": "https://localhost:8080/"
        },
        "id": "eeYR_Xsvd2Xy",
        "outputId": "41a5e20d-afa8-4c7b-b17c-cb2b1603e2e2"
      },
      "outputs": [
        {
          "output_type": "stream",
          "name": "stdout",
          "text": [
            "Collecting optuna\n",
            "  Downloading optuna-3.5.0-py3-none-any.whl (413 kB)\n",
            "\u001b[2K     \u001b[90m━━━━━━━━━━━━━━━━━━━━━━━━━━━━━━━━━━━━━━━━\u001b[0m \u001b[32m413.4/413.4 kB\u001b[0m \u001b[31m4.7 MB/s\u001b[0m eta \u001b[36m0:00:00\u001b[0m\n",
            "\u001b[?25hCollecting alembic>=1.5.0 (from optuna)\n",
            "  Downloading alembic-1.13.1-py3-none-any.whl (233 kB)\n",
            "\u001b[2K     \u001b[90m━━━━━━━━━━━━━━━━━━━━━━━━━━━━━━━━━━━━━━━━\u001b[0m \u001b[32m233.4/233.4 kB\u001b[0m \u001b[31m9.0 MB/s\u001b[0m eta \u001b[36m0:00:00\u001b[0m\n",
            "\u001b[?25hCollecting colorlog (from optuna)\n",
            "  Downloading colorlog-6.8.0-py3-none-any.whl (11 kB)\n",
            "Requirement already satisfied: numpy in /usr/local/lib/python3.10/dist-packages (from optuna) (1.23.5)\n",
            "Requirement already satisfied: packaging>=20.0 in /usr/local/lib/python3.10/dist-packages (from optuna) (23.2)\n",
            "Requirement already satisfied: sqlalchemy>=1.3.0 in /usr/local/lib/python3.10/dist-packages (from optuna) (2.0.24)\n",
            "Requirement already satisfied: tqdm in /usr/local/lib/python3.10/dist-packages (from optuna) (4.66.1)\n",
            "Requirement already satisfied: PyYAML in /usr/local/lib/python3.10/dist-packages (from optuna) (6.0.1)\n",
            "Collecting Mako (from alembic>=1.5.0->optuna)\n",
            "  Downloading Mako-1.3.1-py3-none-any.whl (78 kB)\n",
            "\u001b[2K     \u001b[90m━━━━━━━━━━━━━━━━━━━━━━━━━━━━━━━━━━━━━━━━\u001b[0m \u001b[32m78.7/78.7 kB\u001b[0m \u001b[31m5.0 MB/s\u001b[0m eta \u001b[36m0:00:00\u001b[0m\n",
            "\u001b[?25hRequirement already satisfied: typing-extensions>=4 in /usr/local/lib/python3.10/dist-packages (from alembic>=1.5.0->optuna) (4.5.0)\n",
            "Requirement already satisfied: greenlet!=0.4.17 in /usr/local/lib/python3.10/dist-packages (from sqlalchemy>=1.3.0->optuna) (3.0.3)\n",
            "Requirement already satisfied: MarkupSafe>=0.9.2 in /usr/local/lib/python3.10/dist-packages (from Mako->alembic>=1.5.0->optuna) (2.1.3)\n",
            "Installing collected packages: Mako, colorlog, alembic, optuna\n",
            "Successfully installed Mako-1.3.1 alembic-1.13.1 colorlog-6.8.0 optuna-3.5.0\n"
          ]
        }
      ],
      "source": [
        "!pip install optuna"
      ]
    },
    {
      "cell_type": "code",
      "execution_count": 3,
      "metadata": {
        "id": "nvazoFnxrp2N"
      },
      "outputs": [],
      "source": [
        "import pandas as pd\n",
        "import matplotlib.pyplot as plt\n",
        "import seaborn as sn\n",
        "from statsmodels.tsa.seasonal import seasonal_decompose\n",
        "import optuna\n",
        "import torch\n",
        "from matplotlib import pyplot as plt\n",
        "import numpy as np\n",
        "\n",
        "import auto_esn.utils.dataset_loader as dl\n",
        "from auto_esn.datasets.df import MackeyGlass\n",
        "from auto_esn.esn.esn import GroupedDeepESN\n",
        "from auto_esn.esn.reservoir.activation import self_normalizing_default\n",
        "from auto_esn.esn.reservoir.util import NRMSELoss\n",
        "from auto_esn.esn.reservoir.initialization import CompositeInitializer, WeightInitializer\n",
        "from auto_esn.esn.reservoir.util import NRMSELoss\n",
        "\n",
        "nrmse = NRMSELoss()"
      ]
    },
    {
      "cell_type": "markdown",
      "metadata": {
        "id": "H3Fjftk1uprc"
      },
      "source": [
        "### Mackey Glass Dataset"
      ]
    },
    {
      "cell_type": "markdown",
      "metadata": {
        "id": "YXgSQj5ENKP8"
      },
      "source": [
        "four datasets - electricity, temperatur, [hungarian chickenpox](https://archive.ics.uci.edu/dataset/580/hungarian+chickenpox+cases), my own data\n",
        "\n"
      ]
    },
    {
      "cell_type": "code",
      "execution_count": 139,
      "metadata": {
        "id": "BIPhtUBSsBRS"
      },
      "outputs": [],
      "source": [
        "mg = pd.read_csv('mg.csv')"
      ]
    },
    {
      "cell_type": "code",
      "execution_count": 140,
      "metadata": {
        "colab": {
          "base_uri": "https://localhost:8080/",
          "height": 206
        },
        "id": "grCHCG1exXcO",
        "outputId": "4ed1fc63-42b3-4e68-8f94-ad2a0f35718c"
      },
      "outputs": [
        {
          "output_type": "execute_result",
          "data": {
            "text/plain": [
              "          y\n",
              "0  1.200000\n",
              "1  1.188060\n",
              "2  1.176238\n",
              "3  1.164535\n",
              "4  1.152947"
            ],
            "text/html": [
              "\n",
              "  <div id=\"df-1862bd77-6e57-46f4-a605-4851a49468a8\" class=\"colab-df-container\">\n",
              "    <div>\n",
              "<style scoped>\n",
              "    .dataframe tbody tr th:only-of-type {\n",
              "        vertical-align: middle;\n",
              "    }\n",
              "\n",
              "    .dataframe tbody tr th {\n",
              "        vertical-align: top;\n",
              "    }\n",
              "\n",
              "    .dataframe thead th {\n",
              "        text-align: right;\n",
              "    }\n",
              "</style>\n",
              "<table border=\"1\" class=\"dataframe\">\n",
              "  <thead>\n",
              "    <tr style=\"text-align: right;\">\n",
              "      <th></th>\n",
              "      <th>y</th>\n",
              "    </tr>\n",
              "  </thead>\n",
              "  <tbody>\n",
              "    <tr>\n",
              "      <th>0</th>\n",
              "      <td>1.200000</td>\n",
              "    </tr>\n",
              "    <tr>\n",
              "      <th>1</th>\n",
              "      <td>1.188060</td>\n",
              "    </tr>\n",
              "    <tr>\n",
              "      <th>2</th>\n",
              "      <td>1.176238</td>\n",
              "    </tr>\n",
              "    <tr>\n",
              "      <th>3</th>\n",
              "      <td>1.164535</td>\n",
              "    </tr>\n",
              "    <tr>\n",
              "      <th>4</th>\n",
              "      <td>1.152947</td>\n",
              "    </tr>\n",
              "  </tbody>\n",
              "</table>\n",
              "</div>\n",
              "    <div class=\"colab-df-buttons\">\n",
              "\n",
              "  <div class=\"colab-df-container\">\n",
              "    <button class=\"colab-df-convert\" onclick=\"convertToInteractive('df-1862bd77-6e57-46f4-a605-4851a49468a8')\"\n",
              "            title=\"Convert this dataframe to an interactive table.\"\n",
              "            style=\"display:none;\">\n",
              "\n",
              "  <svg xmlns=\"http://www.w3.org/2000/svg\" height=\"24px\" viewBox=\"0 -960 960 960\">\n",
              "    <path d=\"M120-120v-720h720v720H120Zm60-500h600v-160H180v160Zm220 220h160v-160H400v160Zm0 220h160v-160H400v160ZM180-400h160v-160H180v160Zm440 0h160v-160H620v160ZM180-180h160v-160H180v160Zm440 0h160v-160H620v160Z\"/>\n",
              "  </svg>\n",
              "    </button>\n",
              "\n",
              "  <style>\n",
              "    .colab-df-container {\n",
              "      display:flex;\n",
              "      gap: 12px;\n",
              "    }\n",
              "\n",
              "    .colab-df-convert {\n",
              "      background-color: #E8F0FE;\n",
              "      border: none;\n",
              "      border-radius: 50%;\n",
              "      cursor: pointer;\n",
              "      display: none;\n",
              "      fill: #1967D2;\n",
              "      height: 32px;\n",
              "      padding: 0 0 0 0;\n",
              "      width: 32px;\n",
              "    }\n",
              "\n",
              "    .colab-df-convert:hover {\n",
              "      background-color: #E2EBFA;\n",
              "      box-shadow: 0px 1px 2px rgba(60, 64, 67, 0.3), 0px 1px 3px 1px rgba(60, 64, 67, 0.15);\n",
              "      fill: #174EA6;\n",
              "    }\n",
              "\n",
              "    .colab-df-buttons div {\n",
              "      margin-bottom: 4px;\n",
              "    }\n",
              "\n",
              "    [theme=dark] .colab-df-convert {\n",
              "      background-color: #3B4455;\n",
              "      fill: #D2E3FC;\n",
              "    }\n",
              "\n",
              "    [theme=dark] .colab-df-convert:hover {\n",
              "      background-color: #434B5C;\n",
              "      box-shadow: 0px 1px 3px 1px rgba(0, 0, 0, 0.15);\n",
              "      filter: drop-shadow(0px 1px 2px rgba(0, 0, 0, 0.3));\n",
              "      fill: #FFFFFF;\n",
              "    }\n",
              "  </style>\n",
              "\n",
              "    <script>\n",
              "      const buttonEl =\n",
              "        document.querySelector('#df-1862bd77-6e57-46f4-a605-4851a49468a8 button.colab-df-convert');\n",
              "      buttonEl.style.display =\n",
              "        google.colab.kernel.accessAllowed ? 'block' : 'none';\n",
              "\n",
              "      async function convertToInteractive(key) {\n",
              "        const element = document.querySelector('#df-1862bd77-6e57-46f4-a605-4851a49468a8');\n",
              "        const dataTable =\n",
              "          await google.colab.kernel.invokeFunction('convertToInteractive',\n",
              "                                                    [key], {});\n",
              "        if (!dataTable) return;\n",
              "\n",
              "        const docLinkHtml = 'Like what you see? Visit the ' +\n",
              "          '<a target=\"_blank\" href=https://colab.research.google.com/notebooks/data_table.ipynb>data table notebook</a>'\n",
              "          + ' to learn more about interactive tables.';\n",
              "        element.innerHTML = '';\n",
              "        dataTable['output_type'] = 'display_data';\n",
              "        await google.colab.output.renderOutput(dataTable, element);\n",
              "        const docLink = document.createElement('div');\n",
              "        docLink.innerHTML = docLinkHtml;\n",
              "        element.appendChild(docLink);\n",
              "      }\n",
              "    </script>\n",
              "  </div>\n",
              "\n",
              "\n",
              "<div id=\"df-81ccb99f-76b8-4d77-bad6-f96a64473bce\">\n",
              "  <button class=\"colab-df-quickchart\" onclick=\"quickchart('df-81ccb99f-76b8-4d77-bad6-f96a64473bce')\"\n",
              "            title=\"Suggest charts\"\n",
              "            style=\"display:none;\">\n",
              "\n",
              "<svg xmlns=\"http://www.w3.org/2000/svg\" height=\"24px\"viewBox=\"0 0 24 24\"\n",
              "     width=\"24px\">\n",
              "    <g>\n",
              "        <path d=\"M19 3H5c-1.1 0-2 .9-2 2v14c0 1.1.9 2 2 2h14c1.1 0 2-.9 2-2V5c0-1.1-.9-2-2-2zM9 17H7v-7h2v7zm4 0h-2V7h2v10zm4 0h-2v-4h2v4z\"/>\n",
              "    </g>\n",
              "</svg>\n",
              "  </button>\n",
              "\n",
              "<style>\n",
              "  .colab-df-quickchart {\n",
              "      --bg-color: #E8F0FE;\n",
              "      --fill-color: #1967D2;\n",
              "      --hover-bg-color: #E2EBFA;\n",
              "      --hover-fill-color: #174EA6;\n",
              "      --disabled-fill-color: #AAA;\n",
              "      --disabled-bg-color: #DDD;\n",
              "  }\n",
              "\n",
              "  [theme=dark] .colab-df-quickchart {\n",
              "      --bg-color: #3B4455;\n",
              "      --fill-color: #D2E3FC;\n",
              "      --hover-bg-color: #434B5C;\n",
              "      --hover-fill-color: #FFFFFF;\n",
              "      --disabled-bg-color: #3B4455;\n",
              "      --disabled-fill-color: #666;\n",
              "  }\n",
              "\n",
              "  .colab-df-quickchart {\n",
              "    background-color: var(--bg-color);\n",
              "    border: none;\n",
              "    border-radius: 50%;\n",
              "    cursor: pointer;\n",
              "    display: none;\n",
              "    fill: var(--fill-color);\n",
              "    height: 32px;\n",
              "    padding: 0;\n",
              "    width: 32px;\n",
              "  }\n",
              "\n",
              "  .colab-df-quickchart:hover {\n",
              "    background-color: var(--hover-bg-color);\n",
              "    box-shadow: 0 1px 2px rgba(60, 64, 67, 0.3), 0 1px 3px 1px rgba(60, 64, 67, 0.15);\n",
              "    fill: var(--button-hover-fill-color);\n",
              "  }\n",
              "\n",
              "  .colab-df-quickchart-complete:disabled,\n",
              "  .colab-df-quickchart-complete:disabled:hover {\n",
              "    background-color: var(--disabled-bg-color);\n",
              "    fill: var(--disabled-fill-color);\n",
              "    box-shadow: none;\n",
              "  }\n",
              "\n",
              "  .colab-df-spinner {\n",
              "    border: 2px solid var(--fill-color);\n",
              "    border-color: transparent;\n",
              "    border-bottom-color: var(--fill-color);\n",
              "    animation:\n",
              "      spin 1s steps(1) infinite;\n",
              "  }\n",
              "\n",
              "  @keyframes spin {\n",
              "    0% {\n",
              "      border-color: transparent;\n",
              "      border-bottom-color: var(--fill-color);\n",
              "      border-left-color: var(--fill-color);\n",
              "    }\n",
              "    20% {\n",
              "      border-color: transparent;\n",
              "      border-left-color: var(--fill-color);\n",
              "      border-top-color: var(--fill-color);\n",
              "    }\n",
              "    30% {\n",
              "      border-color: transparent;\n",
              "      border-left-color: var(--fill-color);\n",
              "      border-top-color: var(--fill-color);\n",
              "      border-right-color: var(--fill-color);\n",
              "    }\n",
              "    40% {\n",
              "      border-color: transparent;\n",
              "      border-right-color: var(--fill-color);\n",
              "      border-top-color: var(--fill-color);\n",
              "    }\n",
              "    60% {\n",
              "      border-color: transparent;\n",
              "      border-right-color: var(--fill-color);\n",
              "    }\n",
              "    80% {\n",
              "      border-color: transparent;\n",
              "      border-right-color: var(--fill-color);\n",
              "      border-bottom-color: var(--fill-color);\n",
              "    }\n",
              "    90% {\n",
              "      border-color: transparent;\n",
              "      border-bottom-color: var(--fill-color);\n",
              "    }\n",
              "  }\n",
              "</style>\n",
              "\n",
              "  <script>\n",
              "    async function quickchart(key) {\n",
              "      const quickchartButtonEl =\n",
              "        document.querySelector('#' + key + ' button');\n",
              "      quickchartButtonEl.disabled = true;  // To prevent multiple clicks.\n",
              "      quickchartButtonEl.classList.add('colab-df-spinner');\n",
              "      try {\n",
              "        const charts = await google.colab.kernel.invokeFunction(\n",
              "            'suggestCharts', [key], {});\n",
              "      } catch (error) {\n",
              "        console.error('Error during call to suggestCharts:', error);\n",
              "      }\n",
              "      quickchartButtonEl.classList.remove('colab-df-spinner');\n",
              "      quickchartButtonEl.classList.add('colab-df-quickchart-complete');\n",
              "    }\n",
              "    (() => {\n",
              "      let quickchartButtonEl =\n",
              "        document.querySelector('#df-81ccb99f-76b8-4d77-bad6-f96a64473bce button');\n",
              "      quickchartButtonEl.style.display =\n",
              "        google.colab.kernel.accessAllowed ? 'block' : 'none';\n",
              "    })();\n",
              "  </script>\n",
              "</div>\n",
              "    </div>\n",
              "  </div>\n"
            ]
          },
          "metadata": {},
          "execution_count": 140
        }
      ],
      "source": [
        "mg.head()"
      ]
    },
    {
      "cell_type": "code",
      "execution_count": 141,
      "metadata": {
        "colab": {
          "base_uri": "https://localhost:8080/"
        },
        "id": "VxWKLotIu62N",
        "outputId": "e7caa956-40c6-45db-bf8b-74fe0d18524a"
      },
      "outputs": [
        {
          "output_type": "execute_result",
          "data": {
            "text/plain": [
              "Index(['y'], dtype='object')"
            ]
          },
          "metadata": {},
          "execution_count": 141
        }
      ],
      "source": [
        "mg.columns"
      ]
    },
    {
      "cell_type": "code",
      "execution_count": 142,
      "metadata": {
        "id": "ETIiC-oKW1el"
      },
      "outputs": [],
      "source": [
        "from sklearn.preprocessing import MinMaxScaler\n",
        "\n",
        "def prepare_mg(mg):\n",
        "    mg['date'] = pd.date_range(start=\"01-01-2000\", periods=mg.shape[0], freq=\"D\")\n",
        "    mg.set_index('date', inplace = True)\n",
        "    mg_train = mg[mg.index.year<2020]\n",
        "\n",
        "    mg_val = mg[mg.index.year>=2020]\n",
        "\n",
        "\n",
        "    columns_to_normalize = mg.columns\n",
        "    scaler = MinMaxScaler()\n",
        "    mg_train[columns_to_normalize] = scaler.fit_transform(mg_train[columns_to_normalize].values)\n",
        "    mg_val[columns_to_normalize] = scaler.transform(mg_val[columns_to_normalize.values])\n",
        "    return mg_train, mg_val, mg"
      ]
    },
    {
      "cell_type": "code",
      "execution_count": 143,
      "metadata": {
        "colab": {
          "base_uri": "https://localhost:8080/"
        },
        "id": "JzPdZAzoW3KJ",
        "outputId": "3abd92d3-6d56-44f3-8035-b3a14b814d79"
      },
      "outputs": [
        {
          "output_type": "stream",
          "name": "stderr",
          "text": [
            "<ipython-input-142-2051ded7c7df>:13: SettingWithCopyWarning: \n",
            "A value is trying to be set on a copy of a slice from a DataFrame.\n",
            "Try using .loc[row_indexer,col_indexer] = value instead\n",
            "\n",
            "See the caveats in the documentation: https://pandas.pydata.org/pandas-docs/stable/user_guide/indexing.html#returning-a-view-versus-a-copy\n",
            "  mg_train[columns_to_normalize] = scaler.fit_transform(mg_train[columns_to_normalize].values)\n",
            "/usr/local/lib/python3.10/dist-packages/sklearn/base.py:432: UserWarning: X has feature names, but MinMaxScaler was fitted without feature names\n",
            "  warnings.warn(\n",
            "<ipython-input-142-2051ded7c7df>:14: SettingWithCopyWarning: \n",
            "A value is trying to be set on a copy of a slice from a DataFrame.\n",
            "Try using .loc[row_indexer,col_indexer] = value instead\n",
            "\n",
            "See the caveats in the documentation: https://pandas.pydata.org/pandas-docs/stable/user_guide/indexing.html#returning-a-view-versus-a-copy\n",
            "  mg_val[columns_to_normalize] = scaler.transform(mg_val[columns_to_normalize.values])\n"
          ]
        }
      ],
      "source": [
        "mg_train, mg_val, mg = prepare_mg(mg)"
      ]
    },
    {
      "cell_type": "code",
      "execution_count": 144,
      "metadata": {
        "colab": {
          "base_uri": "https://localhost:8080/",
          "height": 238
        },
        "id": "rBR_A-NZ6CBe",
        "outputId": "15603a8f-0c3d-4e08-cb95-629073c1c1ae"
      },
      "outputs": [
        {
          "output_type": "execute_result",
          "data": {
            "text/plain": [
              "                   y\n",
              "date                \n",
              "2000-01-01  0.896060\n",
              "2000-01-02  0.885151\n",
              "2000-01-03  0.874351\n",
              "2000-01-04  0.863658\n",
              "2000-01-05  0.853071"
            ],
            "text/html": [
              "\n",
              "  <div id=\"df-a8ed6cc4-7114-42d7-bae7-e0196511daa2\" class=\"colab-df-container\">\n",
              "    <div>\n",
              "<style scoped>\n",
              "    .dataframe tbody tr th:only-of-type {\n",
              "        vertical-align: middle;\n",
              "    }\n",
              "\n",
              "    .dataframe tbody tr th {\n",
              "        vertical-align: top;\n",
              "    }\n",
              "\n",
              "    .dataframe thead th {\n",
              "        text-align: right;\n",
              "    }\n",
              "</style>\n",
              "<table border=\"1\" class=\"dataframe\">\n",
              "  <thead>\n",
              "    <tr style=\"text-align: right;\">\n",
              "      <th></th>\n",
              "      <th>y</th>\n",
              "    </tr>\n",
              "    <tr>\n",
              "      <th>date</th>\n",
              "      <th></th>\n",
              "    </tr>\n",
              "  </thead>\n",
              "  <tbody>\n",
              "    <tr>\n",
              "      <th>2000-01-01</th>\n",
              "      <td>0.896060</td>\n",
              "    </tr>\n",
              "    <tr>\n",
              "      <th>2000-01-02</th>\n",
              "      <td>0.885151</td>\n",
              "    </tr>\n",
              "    <tr>\n",
              "      <th>2000-01-03</th>\n",
              "      <td>0.874351</td>\n",
              "    </tr>\n",
              "    <tr>\n",
              "      <th>2000-01-04</th>\n",
              "      <td>0.863658</td>\n",
              "    </tr>\n",
              "    <tr>\n",
              "      <th>2000-01-05</th>\n",
              "      <td>0.853071</td>\n",
              "    </tr>\n",
              "  </tbody>\n",
              "</table>\n",
              "</div>\n",
              "    <div class=\"colab-df-buttons\">\n",
              "\n",
              "  <div class=\"colab-df-container\">\n",
              "    <button class=\"colab-df-convert\" onclick=\"convertToInteractive('df-a8ed6cc4-7114-42d7-bae7-e0196511daa2')\"\n",
              "            title=\"Convert this dataframe to an interactive table.\"\n",
              "            style=\"display:none;\">\n",
              "\n",
              "  <svg xmlns=\"http://www.w3.org/2000/svg\" height=\"24px\" viewBox=\"0 -960 960 960\">\n",
              "    <path d=\"M120-120v-720h720v720H120Zm60-500h600v-160H180v160Zm220 220h160v-160H400v160Zm0 220h160v-160H400v160ZM180-400h160v-160H180v160Zm440 0h160v-160H620v160ZM180-180h160v-160H180v160Zm440 0h160v-160H620v160Z\"/>\n",
              "  </svg>\n",
              "    </button>\n",
              "\n",
              "  <style>\n",
              "    .colab-df-container {\n",
              "      display:flex;\n",
              "      gap: 12px;\n",
              "    }\n",
              "\n",
              "    .colab-df-convert {\n",
              "      background-color: #E8F0FE;\n",
              "      border: none;\n",
              "      border-radius: 50%;\n",
              "      cursor: pointer;\n",
              "      display: none;\n",
              "      fill: #1967D2;\n",
              "      height: 32px;\n",
              "      padding: 0 0 0 0;\n",
              "      width: 32px;\n",
              "    }\n",
              "\n",
              "    .colab-df-convert:hover {\n",
              "      background-color: #E2EBFA;\n",
              "      box-shadow: 0px 1px 2px rgba(60, 64, 67, 0.3), 0px 1px 3px 1px rgba(60, 64, 67, 0.15);\n",
              "      fill: #174EA6;\n",
              "    }\n",
              "\n",
              "    .colab-df-buttons div {\n",
              "      margin-bottom: 4px;\n",
              "    }\n",
              "\n",
              "    [theme=dark] .colab-df-convert {\n",
              "      background-color: #3B4455;\n",
              "      fill: #D2E3FC;\n",
              "    }\n",
              "\n",
              "    [theme=dark] .colab-df-convert:hover {\n",
              "      background-color: #434B5C;\n",
              "      box-shadow: 0px 1px 3px 1px rgba(0, 0, 0, 0.15);\n",
              "      filter: drop-shadow(0px 1px 2px rgba(0, 0, 0, 0.3));\n",
              "      fill: #FFFFFF;\n",
              "    }\n",
              "  </style>\n",
              "\n",
              "    <script>\n",
              "      const buttonEl =\n",
              "        document.querySelector('#df-a8ed6cc4-7114-42d7-bae7-e0196511daa2 button.colab-df-convert');\n",
              "      buttonEl.style.display =\n",
              "        google.colab.kernel.accessAllowed ? 'block' : 'none';\n",
              "\n",
              "      async function convertToInteractive(key) {\n",
              "        const element = document.querySelector('#df-a8ed6cc4-7114-42d7-bae7-e0196511daa2');\n",
              "        const dataTable =\n",
              "          await google.colab.kernel.invokeFunction('convertToInteractive',\n",
              "                                                    [key], {});\n",
              "        if (!dataTable) return;\n",
              "\n",
              "        const docLinkHtml = 'Like what you see? Visit the ' +\n",
              "          '<a target=\"_blank\" href=https://colab.research.google.com/notebooks/data_table.ipynb>data table notebook</a>'\n",
              "          + ' to learn more about interactive tables.';\n",
              "        element.innerHTML = '';\n",
              "        dataTable['output_type'] = 'display_data';\n",
              "        await google.colab.output.renderOutput(dataTable, element);\n",
              "        const docLink = document.createElement('div');\n",
              "        docLink.innerHTML = docLinkHtml;\n",
              "        element.appendChild(docLink);\n",
              "      }\n",
              "    </script>\n",
              "  </div>\n",
              "\n",
              "\n",
              "<div id=\"df-8a558ca4-0c90-4940-9ab0-a2ac19f8dff0\">\n",
              "  <button class=\"colab-df-quickchart\" onclick=\"quickchart('df-8a558ca4-0c90-4940-9ab0-a2ac19f8dff0')\"\n",
              "            title=\"Suggest charts\"\n",
              "            style=\"display:none;\">\n",
              "\n",
              "<svg xmlns=\"http://www.w3.org/2000/svg\" height=\"24px\"viewBox=\"0 0 24 24\"\n",
              "     width=\"24px\">\n",
              "    <g>\n",
              "        <path d=\"M19 3H5c-1.1 0-2 .9-2 2v14c0 1.1.9 2 2 2h14c1.1 0 2-.9 2-2V5c0-1.1-.9-2-2-2zM9 17H7v-7h2v7zm4 0h-2V7h2v10zm4 0h-2v-4h2v4z\"/>\n",
              "    </g>\n",
              "</svg>\n",
              "  </button>\n",
              "\n",
              "<style>\n",
              "  .colab-df-quickchart {\n",
              "      --bg-color: #E8F0FE;\n",
              "      --fill-color: #1967D2;\n",
              "      --hover-bg-color: #E2EBFA;\n",
              "      --hover-fill-color: #174EA6;\n",
              "      --disabled-fill-color: #AAA;\n",
              "      --disabled-bg-color: #DDD;\n",
              "  }\n",
              "\n",
              "  [theme=dark] .colab-df-quickchart {\n",
              "      --bg-color: #3B4455;\n",
              "      --fill-color: #D2E3FC;\n",
              "      --hover-bg-color: #434B5C;\n",
              "      --hover-fill-color: #FFFFFF;\n",
              "      --disabled-bg-color: #3B4455;\n",
              "      --disabled-fill-color: #666;\n",
              "  }\n",
              "\n",
              "  .colab-df-quickchart {\n",
              "    background-color: var(--bg-color);\n",
              "    border: none;\n",
              "    border-radius: 50%;\n",
              "    cursor: pointer;\n",
              "    display: none;\n",
              "    fill: var(--fill-color);\n",
              "    height: 32px;\n",
              "    padding: 0;\n",
              "    width: 32px;\n",
              "  }\n",
              "\n",
              "  .colab-df-quickchart:hover {\n",
              "    background-color: var(--hover-bg-color);\n",
              "    box-shadow: 0 1px 2px rgba(60, 64, 67, 0.3), 0 1px 3px 1px rgba(60, 64, 67, 0.15);\n",
              "    fill: var(--button-hover-fill-color);\n",
              "  }\n",
              "\n",
              "  .colab-df-quickchart-complete:disabled,\n",
              "  .colab-df-quickchart-complete:disabled:hover {\n",
              "    background-color: var(--disabled-bg-color);\n",
              "    fill: var(--disabled-fill-color);\n",
              "    box-shadow: none;\n",
              "  }\n",
              "\n",
              "  .colab-df-spinner {\n",
              "    border: 2px solid var(--fill-color);\n",
              "    border-color: transparent;\n",
              "    border-bottom-color: var(--fill-color);\n",
              "    animation:\n",
              "      spin 1s steps(1) infinite;\n",
              "  }\n",
              "\n",
              "  @keyframes spin {\n",
              "    0% {\n",
              "      border-color: transparent;\n",
              "      border-bottom-color: var(--fill-color);\n",
              "      border-left-color: var(--fill-color);\n",
              "    }\n",
              "    20% {\n",
              "      border-color: transparent;\n",
              "      border-left-color: var(--fill-color);\n",
              "      border-top-color: var(--fill-color);\n",
              "    }\n",
              "    30% {\n",
              "      border-color: transparent;\n",
              "      border-left-color: var(--fill-color);\n",
              "      border-top-color: var(--fill-color);\n",
              "      border-right-color: var(--fill-color);\n",
              "    }\n",
              "    40% {\n",
              "      border-color: transparent;\n",
              "      border-right-color: var(--fill-color);\n",
              "      border-top-color: var(--fill-color);\n",
              "    }\n",
              "    60% {\n",
              "      border-color: transparent;\n",
              "      border-right-color: var(--fill-color);\n",
              "    }\n",
              "    80% {\n",
              "      border-color: transparent;\n",
              "      border-right-color: var(--fill-color);\n",
              "      border-bottom-color: var(--fill-color);\n",
              "    }\n",
              "    90% {\n",
              "      border-color: transparent;\n",
              "      border-bottom-color: var(--fill-color);\n",
              "    }\n",
              "  }\n",
              "</style>\n",
              "\n",
              "  <script>\n",
              "    async function quickchart(key) {\n",
              "      const quickchartButtonEl =\n",
              "        document.querySelector('#' + key + ' button');\n",
              "      quickchartButtonEl.disabled = true;  // To prevent multiple clicks.\n",
              "      quickchartButtonEl.classList.add('colab-df-spinner');\n",
              "      try {\n",
              "        const charts = await google.colab.kernel.invokeFunction(\n",
              "            'suggestCharts', [key], {});\n",
              "      } catch (error) {\n",
              "        console.error('Error during call to suggestCharts:', error);\n",
              "      }\n",
              "      quickchartButtonEl.classList.remove('colab-df-spinner');\n",
              "      quickchartButtonEl.classList.add('colab-df-quickchart-complete');\n",
              "    }\n",
              "    (() => {\n",
              "      let quickchartButtonEl =\n",
              "        document.querySelector('#df-8a558ca4-0c90-4940-9ab0-a2ac19f8dff0 button');\n",
              "      quickchartButtonEl.style.display =\n",
              "        google.colab.kernel.accessAllowed ? 'block' : 'none';\n",
              "    })();\n",
              "  </script>\n",
              "</div>\n",
              "    </div>\n",
              "  </div>\n"
            ]
          },
          "metadata": {},
          "execution_count": 144
        }
      ],
      "source": [
        "mg_train.head()"
      ]
    },
    {
      "cell_type": "code",
      "execution_count": 145,
      "metadata": {
        "id": "In7Fyf8wak2I"
      },
      "outputs": [],
      "source": [
        "def data_to_torch(data):\n",
        "    a = np.array(data)\n",
        "    return torch.from_numpy(a)"
      ]
    },
    {
      "cell_type": "code",
      "execution_count": 146,
      "metadata": {
        "id": "83mX68IKZ6uC"
      },
      "outputs": [],
      "source": [
        "train_X, train_y = data_to_torch(mg_train['y'].values[:-1]), data_to_torch(mg_train['y'].values[1:])"
      ]
    },
    {
      "cell_type": "code",
      "execution_count": 147,
      "metadata": {
        "id": "ejVJ8rwraFW0"
      },
      "outputs": [],
      "source": [
        "test_X, test_y = data_to_torch(mg_val['y'].values[:-1]), data_to_torch(mg_val['y'].values[1:])"
      ]
    },
    {
      "cell_type": "markdown",
      "metadata": {
        "id": "hiVk8JFBvAmR"
      },
      "source": [
        "### esn definition"
      ]
    },
    {
      "cell_type": "code",
      "execution_count": 148,
      "metadata": {
        "id": "rGi3pIdwrEaZ"
      },
      "outputs": [],
      "source": [
        "def best_deepesn_initializer(seed):\n",
        "    # initialize input weights with uniform distribution from -1 to 1 and specified seed to reproduce results\n",
        "    input_weight = CompositeInitializer().with_seed(seed).uniform()\n",
        "\n",
        "    reservoir_weight = CompositeInitializer() \\\n",
        "        .with_seed(seed) \\\n",
        "        .uniform() \\\n",
        "        .sparse(density=0.1) \\\n",
        "        .spectral_normalize() \\\n",
        "        .scale(factor=1.0)  # unnecesary but i wanted to make it explicit\n",
        "\n",
        "    return WeightInitializer(weight_ih_init=input_weight, weight_hh_init=reservoir_weight)"
      ]
    },
    {
      "cell_type": "code",
      "execution_count": 149,
      "metadata": {
        "id": "yoYsJCEBrSnr"
      },
      "outputs": [],
      "source": [
        "X, X_test, y, y_test = train_X, test_X, train_y, test_y\n",
        "\n",
        "X = torch.reshape(X, (X.shape[0],1))\n",
        "y = torch.reshape(y, (y.shape[0],1))\n",
        "\n",
        "X_test = torch.reshape(X_test, (X_test.shape[0],1))\n",
        "y_test = torch.reshape(y_test, (y_test.shape[0],1))\n",
        "\n",
        "activation = self_normalizing_default(leaky_rate=1, spectral_radius=120)\n",
        "seed = 70"
      ]
    },
    {
      "cell_type": "markdown",
      "metadata": {
        "id": "hw3wCtO9xiWS"
      },
      "source": [
        "### One step ahead prediction"
      ]
    },
    {
      "cell_type": "code",
      "execution_count": 150,
      "metadata": {
        "id": "e6xV6oqPwiR_"
      },
      "outputs": [],
      "source": [
        "def get_activation(leaky_rate = 1, radius = 120):\n",
        "    return self_normalizing_default(leaky_rate=leaky_rate, spectral_radius=radius)"
      ]
    },
    {
      "cell_type": "code",
      "execution_count": 151,
      "metadata": {
        "id": "tCS-nhGocpgn"
      },
      "outputs": [],
      "source": [
        "def get_esn(activation, input_size = 6, groups = 3, groups_def = (2,5,2), hidden_size =100, seed = 70):\n",
        "    esn = GroupedDeepESN(\n",
        "        input_size=input_size,\n",
        "        groups=groups,\n",
        "        num_layers=groups_def,\n",
        "        hidden_size=hidden_size,\n",
        "        initializer=best_deepesn_initializer(seed),\n",
        "        activation=activation\n",
        "    )\n",
        "    return esn"
      ]
    },
    {
      "cell_type": "markdown",
      "metadata": {
        "id": "gbZUQVO8u9rb"
      },
      "source": [
        "### Optuna study"
      ]
    },
    {
      "cell_type": "code",
      "execution_count": 152,
      "metadata": {
        "id": "87fBaF2Ru8Q2"
      },
      "outputs": [],
      "source": [
        "def objective(trial):\n",
        "    activation = get_activation(\n",
        "        leaky_rate = trial.suggest_float(\"leaky_rate\", 0.85, 1.2),\n",
        "        radius = trial.suggest_int(\"spectral radius\", 100,800))\n",
        "    esn = get_esn(activation, input_size = 1,hidden_size = trial.suggest_int(\"hidden_size\",100,550))\n",
        "    esn.fit(X, y)\n",
        "    output = esn(X_test)\n",
        "    return nrmse(output, y_test).item()"
      ]
    },
    {
      "cell_type": "code",
      "execution_count": null,
      "metadata": {
        "colab": {
          "base_uri": "https://localhost:8080/"
        },
        "id": "SgMB6hCfvjwO",
        "outputId": "fe95358a-a191-4b71-f974-99df4a5a2f70"
      },
      "outputs": [
        {
          "output_type": "stream",
          "name": "stderr",
          "text": [
            "[I 2024-01-23 14:19:51,738] A new study created in memory with name: no-name-d0335ecd-997c-4bff-b702-3f7647776145\n",
            "[I 2024-01-23 14:20:40,677] Trial 0 finished with value: 0.0018375540544008674 and parameters: {'leaky_rate': 1.107275706882336, 'spectral radius': 522, 'hidden_size': 266}. Best is trial 0 with value: 0.0018375540544008674.\n",
            "[I 2024-01-23 14:21:38,195] Trial 1 finished with value: 0.00042038629571485405 and parameters: {'leaky_rate': 0.9845366984461589, 'spectral radius': 308, 'hidden_size': 307}. Best is trial 1 with value: 0.00042038629571485405.\n",
            "[I 2024-01-23 14:24:21,610] Trial 2 finished with value: 0.0007472837800493897 and parameters: {'leaky_rate': 1.0642521910521512, 'spectral radius': 721, 'hidden_size': 522}. Best is trial 1 with value: 0.00042038629571485405.\n",
            "[I 2024-01-23 14:24:43,593] Trial 3 finished with value: 0.0009692424631453368 and parameters: {'leaky_rate': 1.0559645510897322, 'spectral radius': 298, 'hidden_size': 154}. Best is trial 1 with value: 0.00042038629571485405.\n",
            "[I 2024-01-23 14:25:04,663] Trial 4 finished with value: 0.0009076454730312023 and parameters: {'leaky_rate': 0.8738870261738872, 'spectral radius': 299, 'hidden_size': 159}. Best is trial 1 with value: 0.00042038629571485405.\n",
            "[I 2024-01-23 14:25:59,171] Trial 5 finished with value: 0.0004478853825890793 and parameters: {'leaky_rate': 0.9195776105239488, 'spectral radius': 513, 'hidden_size': 297}. Best is trial 1 with value: 0.00042038629571485405.\n",
            "[I 2024-01-23 14:26:30,682] Trial 6 finished with value: 0.0007845407152140249 and parameters: {'leaky_rate': 0.9135353695485322, 'spectral radius': 510, 'hidden_size': 207}. Best is trial 1 with value: 0.00042038629571485405.\n",
            "[I 2024-01-23 14:28:52,914] Trial 7 finished with value: 0.0004505111151465721 and parameters: {'leaky_rate': 1.0381786389134893, 'spectral radius': 748, 'hidden_size': 491}. Best is trial 1 with value: 0.00042038629571485405.\n",
            "[I 2024-01-23 14:29:11,809] Trial 8 finished with value: 0.0010863280907375673 and parameters: {'leaky_rate': 0.9561740451920232, 'spectral radius': 437, 'hidden_size': 132}. Best is trial 1 with value: 0.00042038629571485405.\n",
            "[I 2024-01-23 14:29:45,401] Trial 9 finished with value: 0.0013186272680971603 and parameters: {'leaky_rate': 1.1645049569570718, 'spectral radius': 247, 'hidden_size': 227}. Best is trial 1 with value: 0.00042038629571485405.\n",
            "[I 2024-01-23 14:31:19,979] Trial 10 finished with value: 0.0005348295043507848 and parameters: {'leaky_rate': 0.9882652722634594, 'spectral radius': 117, 'hidden_size': 405}. Best is trial 1 with value: 0.00042038629571485405.\n",
            "[I 2024-01-23 14:32:31,218] Trial 11 finished with value: 0.0005719016557050505 and parameters: {'leaky_rate': 0.9440180671135744, 'spectral radius': 420, 'hidden_size': 345}. Best is trial 1 with value: 0.00042038629571485405.\n",
            "[I 2024-01-23 14:33:33,158] Trial 12 finished with value: 0.0007256326434612807 and parameters: {'leaky_rate': 0.8575935676617367, 'spectral radius': 617, 'hidden_size': 318}. Best is trial 1 with value: 0.00042038629571485405.\n",
            "[I 2024-01-23 14:35:04,724] Trial 13 finished with value: 0.000916204661685869 and parameters: {'leaky_rate': 0.9863402251055116, 'spectral radius': 378, 'hidden_size': 394}. Best is trial 1 with value: 0.00042038629571485405.\n",
            "[I 2024-01-23 14:36:00,132] Trial 14 finished with value: 0.00041298551372811494 and parameters: {'leaky_rate': 0.9093628336603484, 'spectral radius': 127, 'hidden_size': 303}. Best is trial 14 with value: 0.00041298551372811494.\n",
            "[I 2024-01-23 14:37:27,471] Trial 15 finished with value: 0.0004517995662457905 and parameters: {'leaky_rate': 1.0005079996597186, 'spectral radius': 125, 'hidden_size': 386}. Best is trial 14 with value: 0.00041298551372811494.\n",
            "[I 2024-01-23 14:38:07,684] Trial 16 finished with value: 0.0006316327526105892 and parameters: {'leaky_rate': 0.8926401183920869, 'spectral radius': 222, 'hidden_size': 249}. Best is trial 14 with value: 0.00041298551372811494.\n",
            "[I 2024-01-23 14:40:10,203] Trial 17 finished with value: 0.0026264398229491745 and parameters: {'leaky_rate': 1.1034083787731597, 'spectral radius': 186, 'hidden_size': 457}. Best is trial 14 with value: 0.00041298551372811494.\n",
            "[I 2024-01-23 14:41:22,338] Trial 18 finished with value: 0.0012694317911251982 and parameters: {'leaky_rate': 0.9574710147009067, 'spectral radius': 327, 'hidden_size': 349}. Best is trial 14 with value: 0.00041298551372811494.\n",
            "[I 2024-01-23 14:41:51,593] Trial 19 finished with value: 0.001502538494580369 and parameters: {'leaky_rate': 0.9092983641757391, 'spectral radius': 139, 'hidden_size': 200}. Best is trial 14 with value: 0.00041298551372811494.\n",
            "[I 2024-01-23 14:42:36,778] Trial 20 finished with value: 0.0005559304910425684 and parameters: {'leaky_rate': 1.0060846353356738, 'spectral radius': 261, 'hidden_size': 277}. Best is trial 14 with value: 0.00041298551372811494.\n",
            "[I 2024-01-23 14:43:32,497] Trial 21 finished with value: 0.0006078504179829101 and parameters: {'leaky_rate': 0.9273075681413108, 'spectral radius': 562, 'hidden_size': 311}. Best is trial 14 with value: 0.00041298551372811494.\n",
            "[I 2024-01-23 14:44:22,885] Trial 22 finished with value: 0.0008364287254968093 and parameters: {'leaky_rate': 0.8836715386450054, 'spectral radius': 621, 'hidden_size': 294}. Best is trial 14 with value: 0.00041298551372811494.\n",
            "[I 2024-01-23 14:45:39,506] Trial 23 finished with value: 0.0003692071280508623 and parameters: {'leaky_rate': 0.9599811099166766, 'spectral radius': 354, 'hidden_size': 369}. Best is trial 23 with value: 0.0003692071280508623.\n",
            "[I 2024-01-23 14:47:32,038] Trial 24 finished with value: 0.0005010265896815554 and parameters: {'leaky_rate': 0.9678716177366881, 'spectral radius': 364, 'hidden_size': 443}. Best is trial 23 with value: 0.0003692071280508623.\n",
            "[I 2024-01-23 14:48:44,777] Trial 25 finished with value: 0.000596967565531346 and parameters: {'leaky_rate': 1.0187126781465, 'spectral radius': 196, 'hidden_size': 361}. Best is trial 23 with value: 0.0003692071280508623.\n",
            "[I 2024-01-23 14:50:09,246] Trial 26 finished with value: 0.00101699456679113 and parameters: {'leaky_rate': 0.9399252352006114, 'spectral radius': 378, 'hidden_size': 379}. Best is trial 23 with value: 0.0003692071280508623.\n",
            "[I 2024-01-23 14:51:50,345] Trial 27 finished with value: 0.0006503052069943622 and parameters: {'leaky_rate': 0.9781341547348867, 'spectral radius': 176, 'hidden_size': 411}. Best is trial 23 with value: 0.0003692071280508623.\n",
            "[I 2024-01-23 14:52:52,603] Trial 28 finished with value: 0.0006430975983729435 and parameters: {'leaky_rate': 0.8539044041410523, 'spectral radius': 325, 'hidden_size': 324}. Best is trial 23 with value: 0.0003692071280508623.\n",
            "[I 2024-01-23 14:53:34,757] Trial 29 finished with value: 0.0014908165186709298 and parameters: {'leaky_rate': 1.0910091329069669, 'spectral radius': 470, 'hidden_size': 255}. Best is trial 23 with value: 0.0003692071280508623.\n",
            "[I 2024-01-23 14:55:39,220] Trial 30 finished with value: 0.0012047148216194697 and parameters: {'leaky_rate': 1.148404735412782, 'spectral radius': 258, 'hidden_size': 457}. Best is trial 23 with value: 0.0003692071280508623.\n",
            "[I 2024-01-23 14:56:28,183] Trial 31 finished with value: 0.0006204365375565657 and parameters: {'leaky_rate': 0.9181924219227183, 'spectral radius': 496, 'hidden_size': 282}. Best is trial 23 with value: 0.0003692071280508623.\n",
            "[I 2024-01-23 14:57:24,283] Trial 32 finished with value: 0.00047273361875593427 and parameters: {'leaky_rate': 0.8985934623863323, 'spectral radius': 558, 'hidden_size': 297}. Best is trial 23 with value: 0.0003692071280508623.\n",
            "[I 2024-01-23 14:58:34,113] Trial 33 finished with value: 0.00047732674644845787 and parameters: {'leaky_rate': 0.9305049426281723, 'spectral radius': 692, 'hidden_size': 338}. Best is trial 23 with value: 0.0003692071280508623.\n",
            "[I 2024-01-23 15:01:52,651] Trial 34 finished with value: 0.001333948465678492 and parameters: {'leaky_rate': 1.1988929639249386, 'spectral radius': 412, 'hidden_size': 541}. Best is trial 23 with value: 0.0003692071280508623.\n",
            "[I 2024-01-23 15:02:28,331] Trial 35 finished with value: 0.0008023213374105787 and parameters: {'leaky_rate': 1.0412611493825596, 'spectral radius': 295, 'hidden_size': 227}. Best is trial 23 with value: 0.0003692071280508623.\n",
            "[I 2024-01-23 15:04:15,824] Trial 36 finished with value: 0.0008070768202856147 and parameters: {'leaky_rate': 0.8766360619516992, 'spectral radius': 469, 'hidden_size': 429}. Best is trial 23 with value: 0.0003692071280508623.\n",
            "[I 2024-01-23 15:04:41,726] Trial 37 finished with value: 0.0016749469015559656 and parameters: {'leaky_rate': 1.078813117052083, 'spectral radius': 560, 'hidden_size': 185}. Best is trial 23 with value: 0.0003692071280508623.\n",
            "[I 2024-01-23 15:05:24,832] Trial 38 finished with value: 0.0005936927907865726 and parameters: {'leaky_rate': 0.9565316006847634, 'spectral radius': 343, 'hidden_size': 266}. Best is trial 23 with value: 0.0003692071280508623.\n",
            "[I 2024-01-23 15:06:40,534] Trial 39 finished with value: 0.0006683397258765535 and parameters: {'leaky_rate': 1.0220496887528585, 'spectral radius': 526, 'hidden_size': 361}. Best is trial 23 with value: 0.0003692071280508623.\n",
            "[I 2024-01-23 15:07:32,522] Trial 40 finished with value: 0.0006646648116209083 and parameters: {'leaky_rate': 0.90964620140252, 'spectral radius': 400, 'hidden_size': 300}. Best is trial 23 with value: 0.0003692071280508623.\n",
            "[I 2024-01-23 15:10:02,538] Trial 41 finished with value: 0.0010438852626712316 and parameters: {'leaky_rate': 1.038348293379139, 'spectral radius': 746, 'hidden_size': 499}. Best is trial 23 with value: 0.0003692071280508623.\n",
            "[I 2024-01-23 15:12:25,731] Trial 42 finished with value: 0.0005939075124677972 and parameters: {'leaky_rate': 1.0540111264023582, 'spectral radius': 673, 'hidden_size': 490}. Best is trial 23 with value: 0.0003692071280508623.\n",
            "[I 2024-01-23 15:12:58,648] Trial 43 finished with value: 0.0004321368280390676 and parameters: {'leaky_rate': 1.0038418311852475, 'spectral radius': 768, 'hidden_size': 225}. Best is trial 23 with value: 0.0003692071280508623.\n",
            "[I 2024-01-23 15:13:15,648] Trial 44 finished with value: 0.0009009472519965197 and parameters: {'leaky_rate': 0.995210247985133, 'spectral radius': 778, 'hidden_size': 101}. Best is trial 23 with value: 0.0003692071280508623.\n",
            "[I 2024-01-23 15:13:50,213] Trial 45 finished with value: 0.0011086018512464228 and parameters: {'leaky_rate': 0.9728430945637886, 'spectral radius': 282, 'hidden_size': 231}. Best is trial 23 with value: 0.0003692071280508623.\n",
            "[I 2024-01-23 15:14:12,692] Trial 46 finished with value: 0.0006632459195428761 and parameters: {'leaky_rate': 0.9374935196902122, 'spectral radius': 222, 'hidden_size': 160}. Best is trial 23 with value: 0.0003692071280508623.\n",
            "[I 2024-01-23 15:15:15,809] Trial 47 finished with value: 0.001002611274622129 and parameters: {'leaky_rate': 0.9578700723989008, 'spectral radius': 627, 'hidden_size': 326}. Best is trial 23 with value: 0.0003692071280508623.\n",
            "[I 2024-01-23 15:15:53,611] Trial 48 finished with value: 0.0009544486288225154 and parameters: {'leaky_rate': 1.002956176334534, 'spectral radius': 455, 'hidden_size': 245}. Best is trial 23 with value: 0.0003692071280508623.\n",
            "[I 2024-01-23 15:17:12,503] Trial 49 finished with value: 0.0006039738959686168 and parameters: {'leaky_rate': 0.946877755684806, 'spectral radius': 168, 'hidden_size': 371}. Best is trial 23 with value: 0.0003692071280508623.\n",
            "[I 2024-01-23 15:17:37,977] Trial 50 finished with value: 0.0015345723100779133 and parameters: {'leaky_rate': 0.9832333416513414, 'spectral radius': 101, 'hidden_size': 181}. Best is trial 23 with value: 0.0003692071280508623.\n",
            "[I 2024-01-23 15:18:24,696] Trial 51 finished with value: 0.0013180891135369602 and parameters: {'leaky_rate': 1.0356776574000386, 'spectral radius': 791, 'hidden_size': 275}. Best is trial 23 with value: 0.0003692071280508623.\n",
            "[I 2024-01-23 15:19:32,129] Trial 52 finished with value: 0.0007748432819254853 and parameters: {'leaky_rate': 1.013518585909845, 'spectral radius': 724, 'hidden_size': 339}. Best is trial 23 with value: 0.0003692071280508623.\n",
            "[I 2024-01-23 15:20:03,105] Trial 53 finished with value: 0.0005567790914933118 and parameters: {'leaky_rate': 1.0544675555457563, 'spectral radius': 762, 'hidden_size': 211}. Best is trial 23 with value: 0.0003692071280508623.\n",
            "[I 2024-01-23 15:22:15,350] Trial 54 finished with value: 0.0003536076104295986 and parameters: {'leaky_rate': 0.9236365844801552, 'spectral radius': 658, 'hidden_size': 477}. Best is trial 54 with value: 0.0003536076104295986.\n",
            "[I 2024-01-23 15:23:53,365] Trial 55 finished with value: 0.000493522421689098 and parameters: {'leaky_rate': 0.8939219696578433, 'spectral radius': 691, 'hidden_size': 418}. Best is trial 54 with value: 0.0003536076104295986.\n",
            "[I 2024-01-23 15:25:23,723] Trial 56 finished with value: 0.0004135484819380106 and parameters: {'leaky_rate': 0.9232416589077014, 'spectral radius': 650, 'hidden_size': 398}. Best is trial 54 with value: 0.0003536076104295986.\n",
            "[I 2024-01-23 15:26:53,071] Trial 57 finished with value: 0.0008252816769782686 and parameters: {'leaky_rate': 0.928988533109615, 'spectral radius': 594, 'hidden_size': 394}. Best is trial 54 with value: 0.0003536076104295986.\n",
            "[I 2024-01-23 15:29:07,951] Trial 58 finished with value: 0.0006290164689713804 and parameters: {'leaky_rate': 0.8661905065960751, 'spectral radius': 717, 'hidden_size': 476}. Best is trial 54 with value: 0.0003536076104295986.\n",
            "[I 2024-01-23 15:31:55,080] Trial 59 finished with value: 0.0004994194518144406 and parameters: {'leaky_rate': 0.9467629121446725, 'spectral radius': 665, 'hidden_size': 527}. Best is trial 54 with value: 0.0003536076104295986.\n",
            "[I 2024-01-23 15:33:51,881] Trial 60 finished with value: 0.0004984412319577726 and parameters: {'leaky_rate': 0.9058257400885941, 'spectral radius': 652, 'hidden_size': 443}. Best is trial 54 with value: 0.0003536076104295986.\n",
            "[I 2024-01-23 15:35:07,745] Trial 61 finished with value: 0.0003916748408570561 and parameters: {'leaky_rate': 0.9223822643402193, 'spectral radius': 525, 'hidden_size': 355}. Best is trial 54 with value: 0.0003536076104295986.\n",
            "[I 2024-01-23 15:36:21,410] Trial 62 finished with value: 0.0004489314232796663 and parameters: {'leaky_rate': 0.9195739859964048, 'spectral radius': 535, 'hidden_size': 352}. Best is trial 54 with value: 0.0003536076104295986.\n",
            "[I 2024-01-23 15:37:45,171] Trial 63 finished with value: 0.0008118113486970559 and parameters: {'leaky_rate': 0.9645332800717377, 'spectral radius': 593, 'hidden_size': 377}. Best is trial 54 with value: 0.0003536076104295986.\n",
            "[I 2024-01-23 15:38:41,889] Trial 64 finished with value: 0.0006696535386092841 and parameters: {'leaky_rate': 0.988965580700732, 'spectral radius': 441, 'hidden_size': 313}. Best is trial 54 with value: 0.0003536076104295986.\n",
            "[I 2024-01-23 15:40:12,023] Trial 65 finished with value: 0.0006917753950719254 and parameters: {'leaky_rate': 0.8917481395570743, 'spectral radius': 596, 'hidden_size': 396}. Best is trial 54 with value: 0.0003536076104295986.\n",
            "[I 2024-01-23 15:41:26,331] Trial 66 finished with value: 0.0003909948180872087 and parameters: {'leaky_rate': 0.9341343672205192, 'spectral radius': 147, 'hidden_size': 364}. Best is trial 54 with value: 0.0003536076104295986.\n",
            "[I 2024-01-23 15:42:42,365] Trial 67 finished with value: 0.0012409949179080892 and parameters: {'leaky_rate': 0.9267703445460893, 'spectral radius': 161, 'hidden_size': 366}. Best is trial 54 with value: 0.0003536076104295986.\n",
            "[I 2024-01-23 15:43:41,411] Trial 68 finished with value: 0.0006656098738806876 and parameters: {'leaky_rate': 0.8836920725760044, 'spectral radius': 126, 'hidden_size': 324}. Best is trial 54 with value: 0.0003536076104295986.\n",
            "[I 2024-01-23 15:45:19,121] Trial 69 finished with value: 0.0004635083323777409 and parameters: {'leaky_rate': 0.937717989804068, 'spectral radius': 221, 'hidden_size': 420}. Best is trial 54 with value: 0.0003536076104295986.\n",
            "[I 2024-01-23 15:46:19,965] Trial 70 finished with value: 0.0004090896055861318 and parameters: {'leaky_rate': 0.9069062307158705, 'spectral radius': 147, 'hidden_size': 336}. Best is trial 54 with value: 0.0003536076104295986.\n",
            "[I 2024-01-23 15:47:20,729] Trial 71 finished with value: 0.00042007591773544347 and parameters: {'leaky_rate': 0.9027082878518485, 'spectral radius': 137, 'hidden_size': 336}. Best is trial 54 with value: 0.0003536076104295986.\n",
            "[I 2024-01-23 15:48:19,866] Trial 72 finished with value: 0.0005457100517036423 and parameters: {'leaky_rate': 0.9060796765068445, 'spectral radius': 146, 'hidden_size': 333}. Best is trial 54 with value: 0.0003536076104295986.\n",
            "[I 2024-01-23 15:49:26,311] Trial 73 finished with value: 0.0004223971941106777 and parameters: {'leaky_rate': 0.9166600916556262, 'spectral radius': 187, 'hidden_size': 353}. Best is trial 54 with value: 0.0003536076104295986.\n",
            "[I 2024-01-23 15:50:48,232] Trial 74 finished with value: 0.0004452197025818673 and parameters: {'leaky_rate': 0.8809178568117306, 'spectral radius': 145, 'hidden_size': 386}. Best is trial 54 with value: 0.0003536076104295986.\n",
            "[I 2024-01-23 15:51:52,753] Trial 75 finished with value: 0.0005305564288082972 and parameters: {'leaky_rate': 0.8689834843387674, 'spectral radius': 100, 'hidden_size': 344}. Best is trial 54 with value: 0.0003536076104295986.\n",
            "[I 2024-01-23 15:52:44,076] Trial 76 finished with value: 0.00035474406351451195 and parameters: {'leaky_rate': 0.8992962427785504, 'spectral radius': 235, 'hidden_size': 306}. Best is trial 54 with value: 0.0003536076104295986.\n",
            "[I 2024-01-23 15:53:30,055] Trial 77 finished with value: 0.00041119274580994814 and parameters: {'leaky_rate': 0.8902877951355113, 'spectral radius': 207, 'hidden_size': 289}. Best is trial 54 with value: 0.0003536076104295986.\n",
            "[I 2024-01-23 15:54:24,359] Trial 78 finished with value: 0.0004759551193631672 and parameters: {'leaky_rate': 0.8629540130797976, 'spectral radius': 201, 'hidden_size': 307}. Best is trial 54 with value: 0.0003536076104295986.\n",
            "[I 2024-01-23 15:55:14,797] Trial 79 finished with value: 0.000465762851322667 and parameters: {'leaky_rate': 0.8932419166660963, 'spectral radius': 237, 'hidden_size': 286}. Best is trial 54 with value: 0.0003536076104295986.\n",
            "[I 2024-01-23 15:55:58,859] Trial 80 finished with value: 0.0013406619493357658 and parameters: {'leaky_rate': 0.8861203523674497, 'spectral radius': 205, 'hidden_size': 264}. Best is trial 54 with value: 0.0003536076104295986.\n",
            "[I 2024-01-23 15:56:49,741] Trial 81 finished with value: 0.0012377707646513722 and parameters: {'leaky_rate': 0.9254757395266529, 'spectral radius': 161, 'hidden_size': 290}. Best is trial 54 with value: 0.0003536076104295986.\n",
            "[I 2024-01-23 15:57:46,196] Trial 82 finished with value: 0.0004155953494221874 and parameters: {'leaky_rate': 0.9134746371386888, 'spectral radius': 273, 'hidden_size': 302}. Best is trial 54 with value: 0.0003536076104295986.\n",
            "[I 2024-01-23 15:58:43,007] Trial 83 finished with value: 0.0010145654322705206 and parameters: {'leaky_rate': 0.9368484873302488, 'spectral radius': 493, 'hidden_size': 317}. Best is trial 54 with value: 0.0003536076104295986.\n",
            "[I 2024-01-23 15:59:54,593] Trial 84 finished with value: 0.0010201258077926106 and parameters: {'leaky_rate': 0.9509720118518271, 'spectral radius': 241, 'hidden_size': 351}. Best is trial 54 with value: 0.0003536076104295986.\n",
            "[I 2024-01-23 16:01:16,905] Trial 85 finished with value: 0.0007755384622545146 and parameters: {'leaky_rate': 0.8986013893302959, 'spectral radius': 315, 'hidden_size': 375}. Best is trial 54 with value: 0.0003536076104295986.\n",
            "[I 2024-01-23 16:02:51,220] Trial 86 finished with value: 0.0005930180559831586 and parameters: {'leaky_rate': 0.9211081418109165, 'spectral radius': 120, 'hidden_size': 402}. Best is trial 54 with value: 0.0003536076104295986.\n",
            "[I 2024-01-23 16:04:09,238] Trial 87 finished with value: 0.0005726845285976667 and parameters: {'leaky_rate': 0.9092641309082549, 'spectral radius': 345, 'hidden_size': 361}. Best is trial 54 with value: 0.0003536076104295986.\n",
            "[I 2024-01-23 16:05:08,413] Trial 88 finished with value: 0.0012644496581860024 and parameters: {'leaky_rate': 0.8715722911623955, 'spectral radius': 186, 'hidden_size': 323}. Best is trial 54 with value: 0.0003536076104295986.\n",
            "[I 2024-01-23 16:06:30,853] Trial 89 finished with value: 0.00036886360098999506 and parameters: {'leaky_rate': 0.931762089266305, 'spectral radius': 210, 'hidden_size': 387}. Best is trial 54 with value: 0.0003536076104295986.\n",
            "[I 2024-01-23 16:07:52,026] Trial 90 finished with value: 0.0004359593938774773 and parameters: {'leaky_rate': 0.8552612786222875, 'spectral radius': 216, 'hidden_size': 385}. Best is trial 54 with value: 0.0003536076104295986.\n",
            "[I 2024-01-23 16:08:53,344] Trial 91 finished with value: 0.0005706862397400309 and parameters: {'leaky_rate': 0.9350882739324424, 'spectral radius': 640, 'hidden_size': 332}. Best is trial 54 with value: 0.0003536076104295986.\n",
            "[I 2024-01-23 16:10:38,209] Trial 92 finished with value: 0.0007916127061154285 and parameters: {'leaky_rate': 0.9627339436112603, 'spectral radius': 261, 'hidden_size': 430}. Best is trial 54 with value: 0.0003536076104295986.\n",
            "[I 2024-01-23 16:11:53,863] Trial 93 finished with value: 0.0004189462645019173 and parameters: {'leaky_rate': 0.9457744004362201, 'spectral radius': 154, 'hidden_size': 369}. Best is trial 54 with value: 0.0003536076104295986.\n",
            "[I 2024-01-23 16:12:37,871] Trial 94 finished with value: 0.0009609398995006324 and parameters: {'leaky_rate': 0.9162805210454559, 'spectral radius': 174, 'hidden_size': 273}. Best is trial 54 with value: 0.0003536076104295986.\n",
            "[I 2024-01-23 16:14:45,485] Trial 95 finished with value: 0.0008637644457537294 and parameters: {'leaky_rate': 0.9299046084047771, 'spectral radius': 236, 'hidden_size': 465}. Best is trial 54 with value: 0.0003536076104295986.\n",
            "[I 2024-01-23 16:16:10,065] Trial 96 finished with value: 0.00046463075386831456 and parameters: {'leaky_rate': 0.8884101595219658, 'spectral radius': 129, 'hidden_size': 385}. Best is trial 54 with value: 0.0003536076104295986.\n",
            "[I 2024-01-23 16:17:24,542] Trial 97 finished with value: 0.0011525780617306623 and parameters: {'leaky_rate': 0.8995467488041102, 'spectral radius': 110, 'hidden_size': 357}. Best is trial 54 with value: 0.0003536076104295986.\n",
            "[I 2024-01-23 16:18:33,045] Trial 98 finished with value: 0.00043869305901566967 and parameters: {'leaky_rate': 0.8781025582199302, 'spectral radius': 396, 'hidden_size': 344}. Best is trial 54 with value: 0.0003536076104295986.\n",
            "[I 2024-01-23 16:20:09,538] Trial 99 finished with value: 0.0004287913345907442 and parameters: {'leaky_rate': 0.9227653995257168, 'spectral radius': 298, 'hidden_size': 409}. Best is trial 54 with value: 0.0003536076104295986.\n",
            "[I 2024-01-23 16:21:04,439] Trial 100 finished with value: 0.0006149809273380871 and parameters: {'leaky_rate': 0.9746748012668844, 'spectral radius': 177, 'hidden_size': 303}. Best is trial 54 with value: 0.0003536076104295986.\n",
            "[I 2024-01-23 16:21:55,912] Trial 101 finished with value: 0.0006064407586233403 and parameters: {'leaky_rate': 0.9125406577603041, 'spectral radius': 269, 'hidden_size': 295}. Best is trial 54 with value: 0.0003536076104295986.\n",
            "[I 2024-01-23 16:22:49,965] Trial 102 finished with value: 0.0004277061521251785 and parameters: {'leaky_rate': 0.9037276920368044, 'spectral radius': 206, 'hidden_size': 312}. Best is trial 54 with value: 0.0003536076104295986.\n",
            "[I 2024-01-23 16:23:24,713] Trial 103 finished with value: 0.000984078942370776 and parameters: {'leaky_rate': 0.9122135425466615, 'spectral radius': 284, 'hidden_size': 246}. Best is trial 54 with value: 0.0003536076104295986.\n",
            "[I 2024-01-23 16:24:07,957] Trial 104 finished with value: 0.0008968738935007623 and parameters: {'leaky_rate': 0.9535015822006224, 'spectral radius': 254, 'hidden_size': 281}. Best is trial 54 with value: 0.0003536076104295986.\n",
            "[I 2024-01-23 16:25:02,744] Trial 105 finished with value: 0.0005720732620188894 and parameters: {'leaky_rate': 0.942291933239967, 'spectral radius': 276, 'hidden_size': 304}. Best is trial 54 with value: 0.0003536076104295986.\n",
            "[I 2024-01-23 16:26:03,519] Trial 106 finished with value: 0.0005996617471184092 and parameters: {'leaky_rate': 0.9312862233589435, 'spectral radius': 683, 'hidden_size': 329}. Best is trial 54 with value: 0.0003536076104295986.\n",
            "[I 2024-01-23 16:28:29,204] Trial 107 finished with value: 0.0008593493112514188 and parameters: {'leaky_rate': 0.8972571566308007, 'spectral radius': 189, 'hidden_size': 503}. Best is trial 54 with value: 0.0003536076104295986.\n",
            "[I 2024-01-23 16:29:25,556] Trial 108 finished with value: 0.0005670989070217247 and parameters: {'leaky_rate': 0.9191461828845282, 'spectral radius': 361, 'hidden_size': 319}. Best is trial 54 with value: 0.0003536076104295986.\n",
            "[I 2024-01-23 16:32:39,650] Trial 109 finished with value: 0.0007669517657327198 and parameters: {'leaky_rate': 1.125905869347663, 'spectral radius': 425, 'hidden_size': 550}. Best is trial 54 with value: 0.0003536076104295986.\n",
            "[I 2024-01-23 16:34:03,935] Trial 110 finished with value: 0.0006595791523518118 and parameters: {'leaky_rate': 0.9095750026315071, 'spectral radius': 229, 'hidden_size': 396}. Best is trial 54 with value: 0.0003536076104295986.\n",
            "[I 2024-01-23 16:35:24,780] Trial 111 finished with value: 0.0005670326826727445 and parameters: {'leaky_rate': 0.9390764579001522, 'spectral radius': 148, 'hidden_size': 373}. Best is trial 54 with value: 0.0003536076104295986.\n",
            "[I 2024-01-23 16:36:02,884] Trial 112 finished with value: 0.0004587106785247519 and parameters: {'leaky_rate': 0.9480706517559612, 'spectral radius': 166, 'hidden_size': 258}. Best is trial 54 with value: 0.0003536076104295986.\n",
            "[I 2024-01-23 16:37:16,896] Trial 113 finished with value: 0.0007012164032018617 and parameters: {'leaky_rate': 0.9250293910076809, 'spectral radius': 577, 'hidden_size': 368}. Best is trial 54 with value: 0.0003536076104295986.\n",
            "[I 2024-01-23 16:38:30,858] Trial 114 finished with value: 0.00044293752637280045 and parameters: {'leaky_rate': 0.9324554520129225, 'spectral radius': 214, 'hidden_size': 365}. Best is trial 54 with value: 0.0003536076104295986.\n",
            "[I 2024-01-23 16:39:34,611] Trial 115 finished with value: 0.0004449573684062622 and parameters: {'leaky_rate': 0.9578665357882789, 'spectral radius': 148, 'hidden_size': 343}. Best is trial 54 with value: 0.0003536076104295986.\n",
            "[I 2024-01-23 16:40:24,281] Trial 116 finished with value: 0.0011654814463705656 and parameters: {'leaky_rate': 0.9138562501835429, 'spectral radius': 153, 'hidden_size': 290}. Best is trial 54 with value: 0.0003536076104295986.\n",
            "[I 2024-01-23 16:41:46,982] Trial 117 finished with value: 0.0005409962064248992 and parameters: {'leaky_rate': 0.9021644607216066, 'spectral radius': 113, 'hidden_size': 380}. Best is trial 54 with value: 0.0003536076104295986.\n",
            "[I 2024-01-23 16:43:32,584] Trial 118 finished with value: 0.0005097289067971844 and parameters: {'leaky_rate': 0.9434214645169638, 'spectral radius': 131, 'hidden_size': 436}. Best is trial 54 with value: 0.0003536076104295986.\n",
            "[I 2024-01-23 16:45:10,788] Trial 119 finished with value: 0.00046868222520705374 and parameters: {'leaky_rate': 0.9678563234141915, 'spectral radius': 194, 'hidden_size': 417}. Best is trial 54 with value: 0.0003536076104295986.\n",
            "[I 2024-01-23 16:46:05,120] Trial 120 finished with value: 0.00062257798715953 and parameters: {'leaky_rate': 0.8892768370314689, 'spectral radius': 714, 'hidden_size': 311}. Best is trial 54 with value: 0.0003536076104295986.\n",
            "[I 2024-01-23 16:47:07,005] Trial 121 finished with value: 0.00042547505246592096 and parameters: {'leaky_rate': 0.9023607251327176, 'spectral radius': 134, 'hidden_size': 338}. Best is trial 54 with value: 0.0003536076104295986.\n",
            "[I 2024-01-23 16:48:15,793] Trial 122 finished with value: 0.0006129999658401877 and parameters: {'leaky_rate': 0.9222934605515032, 'spectral radius': 615, 'hidden_size': 358}. Best is trial 54 with value: 0.0003536076104295986.\n",
            "[I 2024-01-23 16:49:22,876] Trial 123 finished with value: 0.0007003901465675056 and parameters: {'leaky_rate': 0.8755565520276352, 'spectral radius': 177, 'hidden_size': 351}. Best is trial 54 with value: 0.0003536076104295986.\n",
            "[I 2024-01-23 16:50:26,476] Trial 124 finished with value: 0.0005128551865509785 and parameters: {'leaky_rate': 0.9063718266442656, 'spectral radius': 248, 'hidden_size': 333}. Best is trial 54 with value: 0.0003536076104295986.\n",
            "[I 2024-01-23 16:51:54,173] Trial 125 finished with value: 0.00046933940911163995 and parameters: {'leaky_rate': 0.8946608958898579, 'spectral radius': 161, 'hidden_size': 391}. Best is trial 54 with value: 0.0003536076104295986.\n",
            "[I 2024-01-23 16:52:46,395] Trial 126 finished with value: 0.0005595997108324852 and parameters: {'leaky_rate': 0.9176963681538114, 'spectral radius': 139, 'hidden_size': 296}. Best is trial 54 with value: 0.0003536076104295986.\n",
            "[I 2024-01-23 16:53:46,814] Trial 127 finished with value: 0.0005246164260651226 and parameters: {'leaky_rate': 0.9311674819010166, 'spectral radius': 653, 'hidden_size': 321}. Best is trial 54 with value: 0.0003536076104295986.\n",
            "[I 2024-01-23 16:54:31,261] Trial 128 finished with value: 0.0006412152682037553 and parameters: {'leaky_rate': 0.8872009580751481, 'spectral radius': 544, 'hidden_size': 271}. Best is trial 54 with value: 0.0003536076104295986.\n",
            "[I 2024-01-23 16:56:08,813] Trial 129 finished with value: 0.0010142169558778943 and parameters: {'leaky_rate': 0.9439979557534218, 'spectral radius': 118, 'hidden_size': 406}. Best is trial 54 with value: 0.0003536076104295986.\n",
            "[I 2024-01-23 16:57:20,717] Trial 130 finished with value: 0.0005869340454837148 and parameters: {'leaky_rate': 0.9265416873776184, 'spectral radius': 314, 'hidden_size': 345}. Best is trial 54 with value: 0.0003536076104295986.\n",
            "[I 2024-01-23 16:58:10,628] Trial 131 finished with value: 0.000423740779617116 and parameters: {'leaky_rate': 0.9543813682801515, 'spectral radius': 338, 'hidden_size': 283}. Best is trial 54 with value: 0.0003536076104295986.\n",
            "[I 2024-01-23 16:59:05,609] Trial 132 finished with value: 0.0010882706111356396 and parameters: {'leaky_rate': 0.9783923001628678, 'spectral radius': 307, 'hidden_size': 298}. Best is trial 54 with value: 0.0003536076104295986.\n",
            "[I 2024-01-23 17:00:03,902] Trial 133 finished with value: 0.0004310676369155056 and parameters: {'leaky_rate': 0.9616884612522676, 'spectral radius': 287, 'hidden_size': 307}. Best is trial 54 with value: 0.0003536076104295986.\n",
            "[I 2024-01-23 17:01:10,246] Trial 134 finished with value: 0.0007581470920066199 and parameters: {'leaky_rate': 0.9950174091461935, 'spectral radius': 270, 'hidden_size': 331}. Best is trial 54 with value: 0.0003536076104295986.\n",
            "[I 2024-01-23 17:02:29,005] Trial 135 finished with value: 0.0008258707504383695 and parameters: {'leaky_rate': 0.9369386626778422, 'spectral radius': 328, 'hidden_size': 363}. Best is trial 54 with value: 0.0003536076104295986.\n",
            "[I 2024-01-23 17:03:30,104] Trial 136 finished with value: 0.0006686626891741123 and parameters: {'leaky_rate': 0.9135111663687189, 'spectral radius': 505, 'hidden_size': 318}. Best is trial 54 with value: 0.0003536076104295986.\n",
            "[I 2024-01-23 17:04:50,492] Trial 137 finished with value: 0.0005029531994719408 and parameters: {'leaky_rate': 0.9503219613725215, 'spectral radius': 205, 'hidden_size': 376}. Best is trial 54 with value: 0.0003536076104295986.\n",
            "[I 2024-01-23 17:06:00,744] Trial 138 finished with value: 0.00042779687411608115 and parameters: {'leaky_rate': 0.9059347421641756, 'spectral radius': 227, 'hidden_size': 353}. Best is trial 54 with value: 0.0003536076104295986.\n",
            "[I 2024-01-23 17:07:07,644] Trial 139 finished with value: 0.0011431276673454277 and parameters: {'leaky_rate': 0.8821425674041263, 'spectral radius': 245, 'hidden_size': 326}. Best is trial 54 with value: 0.0003536076104295986.\n",
            "[I 2024-01-23 17:08:16,882] Trial 140 finished with value: 0.00058934528355063 and parameters: {'leaky_rate': 0.921760415738713, 'spectral radius': 104, 'hidden_size': 342}. Best is trial 54 with value: 0.0003536076104295986.\n",
            "[I 2024-01-23 17:09:31,706] Trial 141 finished with value: 0.0005987107042252118 and parameters: {'leaky_rate': 0.9122829998130343, 'spectral radius': 186, 'hidden_size': 356}. Best is trial 54 with value: 0.0003536076104295986.\n",
            "[I 2024-01-23 17:10:51,791] Trial 142 finished with value: 0.0006991587191130455 and parameters: {'leaky_rate': 0.9163661860484469, 'spectral radius': 158, 'hidden_size': 371}. Best is trial 54 with value: 0.0003536076104295986.\n",
            "[I 2024-01-23 17:11:55,832] Trial 143 finished with value: 0.0004484744193826163 and parameters: {'leaky_rate': 0.8976690608250616, 'spectral radius': 173, 'hidden_size': 337}. Best is trial 54 with value: 0.0003536076104295986.\n",
            "[I 2024-01-23 17:14:33,913] Trial 144 finished with value: 0.0004394372090138257 and parameters: {'leaky_rate': 0.9317382079740596, 'spectral radius': 196, 'hidden_size': 521}. Best is trial 54 with value: 0.0003536076104295986.\n",
            "[I 2024-01-23 17:15:51,567] Trial 145 finished with value: 0.0004946971764113129 and parameters: {'leaky_rate': 0.9253500462023143, 'spectral radius': 470, 'hidden_size': 381}. Best is trial 54 with value: 0.0003536076104295986.\n",
            "[I 2024-01-23 17:16:44,137] Trial 146 finished with value: 0.0005541795293492398 and parameters: {'leaky_rate': 0.9414115238112477, 'spectral radius': 214, 'hidden_size': 311}. Best is trial 54 with value: 0.0003536076104295986.\n",
            "[I 2024-01-23 17:17:31,866] Trial 147 finished with value: 0.00039948172143312627 and parameters: {'leaky_rate': 0.906126611711116, 'spectral radius': 260, 'hidden_size': 289}. Best is trial 54 with value: 0.0003536076104295986.\n",
            "[I 2024-01-23 17:18:15,651] Trial 148 finished with value: 0.0011958750616906002 and parameters: {'leaky_rate': 1.1893310196128362, 'spectral radius': 298, 'hidden_size': 276}. Best is trial 54 with value: 0.0003536076104295986.\n",
            "[I 2024-01-23 17:18:54,055] Trial 149 finished with value: 0.0006581074167170517 and parameters: {'leaky_rate': 0.8938837144818578, 'spectral radius': 263, 'hidden_size': 261}. Best is trial 54 with value: 0.0003536076104295986.\n",
            "[I 2024-01-23 17:19:38,717] Trial 150 finished with value: 0.0005637322043564322 and parameters: {'leaky_rate': 0.9021345254429847, 'spectral radius': 362, 'hidden_size': 285}. Best is trial 54 with value: 0.0003536076104295986.\n",
            "[I 2024-01-23 17:20:27,779] Trial 151 finished with value: 0.0006801815626472518 and parameters: {'leaky_rate': 0.9100211117289019, 'spectral radius': 138, 'hidden_size': 298}. Best is trial 54 with value: 0.0003536076104295986.\n",
            "[I 2024-01-23 17:21:39,127] Trial 152 finished with value: 0.0004416072403419472 and parameters: {'leaky_rate': 0.9211309683985671, 'spectral radius': 234, 'hidden_size': 365}. Best is trial 54 with value: 0.0003536076104295986.\n",
            "[I 2024-01-23 17:22:26,625] Trial 153 finished with value: 0.0006011332594380176 and parameters: {'leaky_rate': 0.9171106807570808, 'spectral radius': 183, 'hidden_size': 291}. Best is trial 54 with value: 0.0003536076104295986.\n",
            "[I 2024-01-23 17:23:18,524] Trial 154 finished with value: 0.0005845543556275632 and parameters: {'leaky_rate': 0.9063518882327986, 'spectral radius': 632, 'hidden_size': 304}. Best is trial 54 with value: 0.0003536076104295986.\n",
            "[I 2024-01-23 17:24:25,659] Trial 155 finished with value: 0.000692464119856609 and parameters: {'leaky_rate': 0.9331610553847094, 'spectral radius': 125, 'hidden_size': 351}. Best is trial 54 with value: 0.0003536076104295986.\n",
            "[I 2024-01-23 17:25:22,006] Trial 156 finished with value: 0.000602032698661328 and parameters: {'leaky_rate': 0.899705672892722, 'spectral radius': 705, 'hidden_size': 325}. Best is trial 54 with value: 0.0003536076104295986.\n",
            "[I 2024-01-23 17:26:47,248] Trial 157 finished with value: 0.0003886585291706386 and parameters: {'leaky_rate': 0.9269684164192797, 'spectral radius': 387, 'hidden_size': 399}. Best is trial 54 with value: 0.0003536076104295986.\n",
            "[I 2024-01-23 17:28:11,925] Trial 158 finished with value: 0.0003714151535784989 and parameters: {'leaky_rate': 0.9486572514245672, 'spectral radius': 401, 'hidden_size': 399}. Best is trial 54 with value: 0.0003536076104295986.\n",
            "[I 2024-01-23 17:29:37,705] Trial 159 finished with value: 0.00037822956591421404 and parameters: {'leaky_rate': 0.9376937777941938, 'spectral radius': 426, 'hidden_size': 399}. Best is trial 54 with value: 0.0003536076104295986.\n",
            "[I 2024-01-23 17:30:59,959] Trial 160 finished with value: 0.0009691231465703556 and parameters: {'leaky_rate': 0.9383660519180065, 'spectral radius': 402, 'hidden_size': 390}. Best is trial 54 with value: 0.0003536076104295986.\n",
            "[I 2024-01-23 17:32:28,051] Trial 161 finished with value: 0.00053679636387318 and parameters: {'leaky_rate': 0.9492255241144854, 'spectral radius': 375, 'hidden_size': 401}. Best is trial 54 with value: 0.0003536076104295986.\n",
            "[I 2024-01-23 17:34:06,821] Trial 162 finished with value: 0.001020662213406616 and parameters: {'leaky_rate': 0.9274901718878987, 'spectral radius': 396, 'hidden_size': 422}. Best is trial 54 with value: 0.0003536076104295986.\n",
            "[I 2024-01-23 17:35:45,222] Trial 163 finished with value: 0.00039857796032855436 and parameters: {'leaky_rate': 0.9435277383997297, 'spectral radius': 428, 'hidden_size': 398}. Best is trial 54 with value: 0.0003536076104295986.\n",
            "[I 2024-01-23 17:37:24,622] Trial 164 finished with value: 0.0003758482566288898 and parameters: {'leaky_rate': 0.9454331840661765, 'spectral radius': 442, 'hidden_size': 399}. Best is trial 54 with value: 0.0003536076104295986.\n",
            "[I 2024-01-23 17:38:55,483] Trial 165 finished with value: 0.0009562710082970155 and parameters: {'leaky_rate': 0.9358680728060924, 'spectral radius': 441, 'hidden_size': 406}. Best is trial 54 with value: 0.0003536076104295986.\n",
            "[I 2024-01-23 17:40:31,653] Trial 166 finished with value: 0.00045909557393098116 and parameters: {'leaky_rate': 0.9579680632998225, 'spectral radius': 416, 'hidden_size': 415}. Best is trial 54 with value: 0.0003536076104295986.\n",
            "[I 2024-01-23 17:42:00,661] Trial 167 finished with value: 0.0007046998826205921 and parameters: {'leaky_rate': 0.9430873448421743, 'spectral radius': 428, 'hidden_size': 402}. Best is trial 54 with value: 0.0003536076104295986.\n",
            "[I 2024-01-23 17:43:43,783] Trial 168 finished with value: 0.0008262546401568875 and parameters: {'leaky_rate': 0.928195553658412, 'spectral radius': 480, 'hidden_size': 429}. Best is trial 54 with value: 0.0003536076104295986.\n",
            "[I 2024-01-23 17:45:09,283] Trial 169 finished with value: 0.000414749115805732 and parameters: {'leaky_rate': 0.9482489865860128, 'spectral radius': 445, 'hidden_size': 391}. Best is trial 54 with value: 0.0003536076104295986.\n",
            "[I 2024-01-23 17:46:37,023] Trial 170 finished with value: 0.00036606448708471304 and parameters: {'leaky_rate': 0.9713970117940833, 'spectral radius': 460, 'hidden_size': 393}. Best is trial 54 with value: 0.0003536076104295986.\n",
            "[I 2024-01-23 17:48:04,030] Trial 171 finished with value: 0.00036229722573599606 and parameters: {'leaky_rate': 0.9717726109588419, 'spectral radius': 463, 'hidden_size': 393}. Best is trial 54 with value: 0.0003536076104295986.\n",
            "[I 2024-01-23 17:49:30,426] Trial 172 finished with value: 0.0008826196077697297 and parameters: {'leaky_rate': 0.9721589566662109, 'spectral radius': 464, 'hidden_size': 397}. Best is trial 54 with value: 0.0003536076104295986.\n",
            "[I 2024-01-23 17:50:50,296] Trial 173 finished with value: 0.0004272877459757466 and parameters: {'leaky_rate': 0.9618389100057928, 'spectral radius': 413, 'hidden_size': 385}. Best is trial 54 with value: 0.0003536076104295986.\n",
            "[I 2024-01-23 17:52:23,729] Trial 174 finished with value: 0.0009210884892214056 and parameters: {'leaky_rate': 0.9689165671776587, 'spectral radius': 378, 'hidden_size': 412}. Best is trial 54 with value: 0.0003536076104295986.\n",
            "[I 2024-01-23 17:54:12,916] Trial 175 finished with value: 0.0005581380298582303 and parameters: {'leaky_rate': 0.9852794751517181, 'spectral radius': 433, 'hidden_size': 441}. Best is trial 54 with value: 0.0003536076104295986.\n",
            "[I 2024-01-23 17:55:40,881] Trial 176 finished with value: 0.0008335230271728613 and parameters: {'leaky_rate': 0.9582717287957613, 'spectral radius': 459, 'hidden_size': 396}. Best is trial 54 with value: 0.0003536076104295986.\n",
            "[I 2024-01-23 17:57:23,499] Trial 177 finished with value: 0.0007079431352850815 and parameters: {'leaky_rate': 0.9534879334563471, 'spectral radius': 391, 'hidden_size': 423}. Best is trial 54 with value: 0.0003536076104295986.\n",
            "[I 2024-01-23 17:58:44,203] Trial 178 finished with value: 0.0005758723432870413 and parameters: {'leaky_rate': 0.9380263967177376, 'spectral radius': 489, 'hidden_size': 380}. Best is trial 54 with value: 0.0003536076104295986.\n",
            "[I 2024-01-23 18:00:18,137] Trial 179 finished with value: 0.00043992423304560897 and parameters: {'leaky_rate': 0.9793690867071755, 'spectral radius': 456, 'hidden_size': 410}. Best is trial 54 with value: 0.0003536076104295986.\n",
            "[I 2024-01-23 18:01:46,901] Trial 180 finished with value: 0.0003898935371285253 and parameters: {'leaky_rate': 0.96757184365618, 'spectral radius': 423, 'hidden_size': 399}. Best is trial 54 with value: 0.0003536076104295986.\n",
            "[I 2024-01-23 18:03:09,724] Trial 181 finished with value: 0.0011579978829329238 and parameters: {'leaky_rate': 0.9644726888528551, 'spectral radius': 410, 'hidden_size': 388}. Best is trial 54 with value: 0.0003536076104295986.\n",
            "[I 2024-01-23 18:05:03,078] Trial 182 finished with value: 0.0003449126066478897 and parameters: {'leaky_rate': 0.9714112465244784, 'spectral radius': 426, 'hidden_size': 452}. Best is trial 182 with value: 0.0003449126066478897.\n",
            "[I 2024-01-23 18:07:00,408] Trial 183 finished with value: 0.0003732883771965956 and parameters: {'leaky_rate': 0.991206898652445, 'spectral radius': 427, 'hidden_size': 453}. Best is trial 182 with value: 0.0003449126066478897.\n",
            "[I 2024-01-23 18:09:01,262] Trial 184 finished with value: 0.0004860308803016073 and parameters: {'leaky_rate': 0.974198901320319, 'spectral radius': 425, 'hidden_size': 455}. Best is trial 182 with value: 0.0003449126066478897.\n",
            "[I 2024-01-23 18:10:31,346] Trial 185 finished with value: 0.0005597357793530399 and parameters: {'leaky_rate': 1.0105503141427705, 'spectral radius': 446, 'hidden_size': 405}. Best is trial 182 with value: 0.0003449126066478897.\n",
            "[I 2024-01-23 18:12:29,005] Trial 186 finished with value: 0.0004564081872150132 and parameters: {'leaky_rate': 0.9925951925065998, 'spectral radius': 433, 'hidden_size': 470}. Best is trial 182 with value: 0.0003449126066478897.\n",
            "[I 2024-01-23 18:14:38,640] Trial 187 finished with value: 0.0004867895929406765 and parameters: {'leaky_rate': 0.9673596586003341, 'spectral radius': 388, 'hidden_size': 481}. Best is trial 182 with value: 0.0003449126066478897.\n",
            "[I 2024-01-23 18:16:57,324] Trial 188 finished with value: 0.00034175399222890893 and parameters: {'leaky_rate': 0.9750287918532018, 'spectral radius': 412, 'hidden_size': 496}. Best is trial 188 with value: 0.00034175399222890893.\n",
            "[I 2024-01-23 18:18:57,918] Trial 189 finished with value: 0.0006805919997044336 and parameters: {'leaky_rate': 0.9851201264181906, 'spectral radius': 424, 'hidden_size': 462}. Best is trial 188 with value: 0.00034175399222890893.\n",
            "[I 2024-01-23 18:21:15,471] Trial 190 finished with value: 0.000639606089214532 and parameters: {'leaky_rate': 0.9812409032850032, 'spectral radius': 411, 'hidden_size': 490}. Best is trial 188 with value: 0.00034175399222890893.\n",
            "[I 2024-01-23 18:23:06,092] Trial 191 finished with value: 0.000393312152732716 and parameters: {'leaky_rate': 1.0307596200877154, 'spectral radius': 474, 'hidden_size': 446}. Best is trial 188 with value: 0.00034175399222890893.\n",
            "[I 2024-01-23 18:25:06,525] Trial 192 finished with value: 0.0005191434496013872 and parameters: {'leaky_rate': 1.0459441493693724, 'spectral radius': 445, 'hidden_size': 455}. Best is trial 188 with value: 0.00034175399222890893.\n",
            "[I 2024-01-23 18:27:28,510] Trial 193 finished with value: 0.0006904635175583279 and parameters: {'leaky_rate': 0.9698818850504127, 'spectral radius': 470, 'hidden_size': 503}. Best is trial 188 with value: 0.00034175399222890893.\n",
            "[I 2024-01-23 18:29:20,065] Trial 194 finished with value: 0.0016029358881962225 and parameters: {'leaky_rate': 1.0278251211301808, 'spectral radius': 513, 'hidden_size': 449}. Best is trial 188 with value: 0.00034175399222890893.\n",
            "[I 2024-01-23 18:31:24,011] Trial 195 finished with value: 0.00041682519917624045 and parameters: {'leaky_rate': 1.029847126940467, 'spectral radius': 479, 'hidden_size': 480}. Best is trial 188 with value: 0.00034175399222890893.\n",
            "[I 2024-01-23 18:33:03,181] Trial 196 finished with value: 0.00036290237182400595 and parameters: {'leaky_rate': 0.9762060691975438, 'spectral radius': 380, 'hidden_size': 435}. Best is trial 188 with value: 0.00034175399222890893.\n",
            "[I 2024-01-23 18:34:41,456] Trial 197 finished with value: 0.0006678936419091664 and parameters: {'leaky_rate': 0.9755442035626484, 'spectral radius': 349, 'hidden_size': 431}. Best is trial 188 with value: 0.00034175399222890893.\n",
            "[I 2024-01-23 18:36:29,850] Trial 198 finished with value: 0.0003666004662808983 and parameters: {'leaky_rate': 0.9994075882189639, 'spectral radius': 376, 'hidden_size': 448}. Best is trial 188 with value: 0.00034175399222890893.\n",
            "[I 2024-01-23 18:38:18,535] Trial 199 finished with value: 0.0009331669964846583 and parameters: {'leaky_rate': 0.9957919266525057, 'spectral radius': 367, 'hidden_size': 447}. Best is trial 188 with value: 0.00034175399222890893.\n",
            "[I 2024-01-23 18:40:20,439] Trial 200 finished with value: 0.0003095464164933837 and parameters: {'leaky_rate': 0.9914888712677115, 'spectral radius': 402, 'hidden_size': 469}. Best is trial 200 with value: 0.0003095464164933837.\n",
            "[I 2024-01-23 18:42:21,670] Trial 201 finished with value: 0.0005707847686042945 and parameters: {'leaky_rate': 1.0196049616330451, 'spectral radius': 382, 'hidden_size': 472}. Best is trial 200 with value: 0.0003095464164933837.\n",
            "[I 2024-01-23 18:44:11,201] Trial 202 finished with value: 0.0006085326510729382 and parameters: {'leaky_rate': 0.9985736000055686, 'spectral radius': 402, 'hidden_size': 456}. Best is trial 200 with value: 0.0003095464164933837.\n",
            "[I 2024-01-23 18:46:04,015] Trial 203 finished with value: 0.0008247151831087475 and parameters: {'leaky_rate': 0.9885203299883643, 'spectral radius': 406, 'hidden_size': 465}. Best is trial 200 with value: 0.0003095464164933837.\n",
            "[I 2024-01-23 18:47:53,068] Trial 204 finished with value: 0.000607839400171466 and parameters: {'leaky_rate': 1.0058759403859712, 'spectral radius': 420, 'hidden_size': 445}. Best is trial 200 with value: 0.0003095464164933837.\n",
            "[I 2024-01-23 18:50:08,970] Trial 205 finished with value: 0.0006568353620712145 and parameters: {'leaky_rate': 0.9820431701410247, 'spectral radius': 389, 'hidden_size': 490}. Best is trial 200 with value: 0.0003095464164933837.\n",
            "[I 2024-01-23 18:51:52,638] Trial 206 finished with value: 0.0007965340474510527 and parameters: {'leaky_rate': 0.9749717933743064, 'spectral radius': 441, 'hidden_size': 430}. Best is trial 200 with value: 0.0003095464164933837.\n",
            "[I 2024-01-23 18:54:05,284] Trial 207 finished with value: 0.0007290307577019511 and parameters: {'leaky_rate': 1.012753649594584, 'spectral radius': 357, 'hidden_size': 483}. Best is trial 200 with value: 0.0003095464164933837.\n",
            "[I 2024-01-23 18:55:48,249] Trial 208 finished with value: 0.00046954611504158834 and parameters: {'leaky_rate': 0.9618841148075938, 'spectral radius': 373, 'hidden_size': 436}. Best is trial 200 with value: 0.0003095464164933837.\n",
            "[I 2024-01-23 18:58:10,563] Trial 209 finished with value: 0.0006859467233725017 and parameters: {'leaky_rate': 0.9868383239909885, 'spectral radius': 431, 'hidden_size': 498}. Best is trial 200 with value: 0.0003095464164933837.\n",
            "[I 2024-01-23 18:59:53,367] Trial 210 finished with value: 0.0009967689216856448 and parameters: {'leaky_rate': 0.9535767926679914, 'spectral radius': 454, 'hidden_size': 421}. Best is trial 200 with value: 0.0003095464164933837.\n",
            "[I 2024-01-23 19:01:56,221] Trial 211 finished with value: 0.00037809789201212105 and parameters: {'leaky_rate': 0.9664257890321576, 'spectral radius': 402, 'hidden_size': 471}. Best is trial 200 with value: 0.0003095464164933837.\n",
            "[I 2024-01-23 19:03:54,336] Trial 212 finished with value: 0.0003175831599756437 and parameters: {'leaky_rate': 0.9645575925449553, 'spectral radius': 400, 'hidden_size': 469}. Best is trial 200 with value: 0.0003095464164933837.\n",
            "[I 2024-01-23 19:05:51,276] Trial 213 finished with value: 0.0006247534352787148 and parameters: {'leaky_rate': 0.9670540618034805, 'spectral radius': 396, 'hidden_size': 466}. Best is trial 200 with value: 0.0003095464164933837.\n",
            "[I 2024-01-23 19:07:55,649] Trial 214 finished with value: 0.000556203775404835 and parameters: {'leaky_rate': 0.9676259726323934, 'spectral radius': 410, 'hidden_size': 475}. Best is trial 200 with value: 0.0003095464164933837.\n",
            "[I 2024-01-23 19:10:20,589] Trial 215 finished with value: 0.00041309752985893897 and parameters: {'leaky_rate': 0.9782595447174469, 'spectral radius': 383, 'hidden_size': 511}. Best is trial 200 with value: 0.0003095464164933837.\n",
            "[I 2024-01-23 19:12:14,254] Trial 216 finished with value: 0.0003985113272222215 and parameters: {'leaky_rate': 0.9916043186136744, 'spectral radius': 398, 'hidden_size': 455}. Best is trial 200 with value: 0.0003095464164933837.\n",
            "[I 2024-01-23 19:13:59,626] Trial 217 finished with value: 0.0005343813108757958 and parameters: {'leaky_rate': 0.9575513089174684, 'spectral radius': 414, 'hidden_size': 449}. Best is trial 200 with value: 0.0003095464164933837.\n",
            "[I 2024-01-23 19:15:54,057] Trial 218 finished with value: 0.0012421963579282583 and parameters: {'leaky_rate': 0.9734497174312304, 'spectral radius': 374, 'hidden_size': 463}. Best is trial 200 with value: 0.0003095464164933837.\n",
            "[I 2024-01-23 19:17:50,805] Trial 219 finished with value: 0.0008312204280381847 and parameters: {'leaky_rate': 1.0010312244136337, 'spectral radius': 453, 'hidden_size': 476}. Best is trial 200 with value: 0.0003095464164933837.\n",
            "[I 2024-01-23 19:19:27,861] Trial 220 finished with value: 0.0007911240958878186 and parameters: {'leaky_rate': 0.982331069901655, 'spectral radius': 417, 'hidden_size': 439}. Best is trial 200 with value: 0.0003095464164933837.\n",
            "[I 2024-01-23 19:21:12,788] Trial 221 finished with value: 0.0005744477672104022 and parameters: {'leaky_rate': 0.9906508144984235, 'spectral radius': 392, 'hidden_size': 450}. Best is trial 200 with value: 0.0003095464164933837.\n",
            "[I 2024-01-23 19:23:03,455] Trial 222 finished with value: 0.0010028672618797912 and parameters: {'leaky_rate': 0.963886183879378, 'spectral radius': 399, 'hidden_size': 457}. Best is trial 200 with value: 0.0003095464164933837.\n",
            "[I 2024-01-23 19:25:00,283] Trial 223 finished with value: 0.0006902851864415749 and parameters: {'leaky_rate': 0.9921914480980872, 'spectral radius': 433, 'hidden_size': 468}. Best is trial 200 with value: 0.0003095464164933837.\n",
            "[I 2024-01-23 19:26:18,831] Trial 224 finished with value: 0.0007082850818507252 and parameters: {'leaky_rate': 0.9750835339669187, 'spectral radius': 399, 'hidden_size': 377}. Best is trial 200 with value: 0.0003095464164933837.\n",
            "[I 2024-01-23 19:28:32,153] Trial 225 finished with value: 0.00048063194662483643 and parameters: {'leaky_rate': 0.9524986636885553, 'spectral radius': 356, 'hidden_size': 483}. Best is trial 200 with value: 0.0003095464164933837.\n",
            "[I 2024-01-23 19:30:31,364] Trial 226 finished with value: 0.0005999277018198649 and parameters: {'leaky_rate': 0.9697140303256685, 'spectral radius': 386, 'hidden_size': 460}. Best is trial 200 with value: 0.0003095464164933837.\n",
            "[I 2024-01-23 19:32:03,265] Trial 227 finished with value: 0.0004387388150077733 and parameters: {'leaky_rate': 0.9612014597520282, 'spectral radius': 421, 'hidden_size': 414}. Best is trial 200 with value: 0.0003095464164933837.\n",
            "[I 2024-01-23 19:33:21,345] Trial 228 finished with value: 0.00047083958435935785 and parameters: {'leaky_rate': 0.9824088597043603, 'spectral radius': 497, 'hidden_size': 381}. Best is trial 200 with value: 0.0003095464164933837.\n",
            "[I 2024-01-23 19:34:49,291] Trial 229 finished with value: 0.000653750880389185 and parameters: {'leaky_rate': 0.9980531005553388, 'spectral radius': 409, 'hidden_size': 390}. Best is trial 200 with value: 0.0003095464164933837.\n",
            "[I 2024-01-23 19:36:52,005] Trial 230 finished with value: 0.0005163062522549014 and parameters: {'leaky_rate': 0.9902895214654442, 'spectral radius': 439, 'hidden_size': 445}. Best is trial 200 with value: 0.0003095464164933837.\n",
            "[I 2024-01-23 19:38:26,112] Trial 231 finished with value: 0.0007133250829115566 and parameters: {'leaky_rate': 0.9475833159249197, 'spectral radius': 422, 'hidden_size': 402}. Best is trial 200 with value: 0.0003095464164933837.\n",
            "[I 2024-01-23 19:39:58,760] Trial 232 finished with value: 0.0004083932834724336 and parameters: {'leaky_rate': 0.9444724274019689, 'spectral radius': 463, 'hidden_size': 398}. Best is trial 200 with value: 0.0003095464164933837.\n",
            "[I 2024-01-23 19:41:26,749] Trial 233 finished with value: 0.0003726405056154651 and parameters: {'leaky_rate': 0.9530454309022375, 'spectral radius': 434, 'hidden_size': 393}. Best is trial 200 with value: 0.0003095464164933837.\n",
            "[I 2024-01-23 19:42:51,510] Trial 234 finished with value: 0.0004100347539190277 and parameters: {'leaky_rate': 0.957822400583402, 'spectral radius': 474, 'hidden_size': 391}. Best is trial 200 with value: 0.0003095464164933837.\n",
            "[I 2024-01-23 19:44:55,298] Trial 235 finished with value: 0.0007511251693674432 and parameters: {'leaky_rate': 0.9688024197102474, 'spectral radius': 743, 'hidden_size': 472}. Best is trial 200 with value: 0.0003095464164933837.\n",
            "[I 2024-01-23 19:46:08,006] Trial 236 finished with value: 0.0004550654776452174 and parameters: {'leaky_rate': 0.9776559011100818, 'spectral radius': 449, 'hidden_size': 370}. Best is trial 200 with value: 0.0003095464164933837.\n",
            "[I 2024-01-23 19:47:59,375] Trial 237 finished with value: 0.0003956152472489616 and parameters: {'leaky_rate': 0.962151141605179, 'spectral radius': 373, 'hidden_size': 458}. Best is trial 200 with value: 0.0003095464164933837.\n",
            "[I 2024-01-23 19:50:04,800] Trial 238 finished with value: 0.00045923597313564493 and parameters: {'leaky_rate': 0.9547190430480441, 'spectral radius': 373, 'hidden_size': 487}. Best is trial 200 with value: 0.0003095464164933837.\n",
            "[I 2024-01-23 19:51:30,093] Trial 239 finished with value: 0.0009848069121929741 and parameters: {'leaky_rate': 0.9610399531681468, 'spectral radius': 532, 'hidden_size': 406}. Best is trial 200 with value: 0.0003095464164933837.\n",
            "[I 2024-01-23 19:52:49,258] Trial 240 finished with value: 0.00043661602501094657 and parameters: {'leaky_rate': 0.9510192984042067, 'spectral radius': 365, 'hidden_size': 387}. Best is trial 200 with value: 0.0003095464164933837.\n",
            "[I 2024-01-23 19:54:42,919] Trial 241 finished with value: 0.0005714175372371547 and parameters: {'leaky_rate': 0.9706975247002909, 'spectral radius': 402, 'hidden_size': 460}. Best is trial 200 with value: 0.0003095464164933837.\n",
            "[I 2024-01-23 19:56:31,021] Trial 242 finished with value: 0.0011926218670576996 and parameters: {'leaky_rate': 0.9631012019942772, 'spectral radius': 385, 'hidden_size': 450}. Best is trial 200 with value: 0.0003095464164933837.\n",
            "[I 2024-01-23 19:58:27,289] Trial 243 finished with value: 0.00037321321204885423 and parameters: {'leaky_rate': 0.9324196898749151, 'spectral radius': 430, 'hidden_size': 471}. Best is trial 200 with value: 0.0003095464164933837.\n",
            "[I 2024-01-23 20:00:23,396] Trial 244 finished with value: 0.0008021795669516734 and parameters: {'leaky_rate': 0.9387860747151788, 'spectral radius': 436, 'hidden_size': 472}. Best is trial 200 with value: 0.0003095464164933837.\n",
            "[I 2024-01-23 20:02:30,254] Trial 245 finished with value: 0.00032995413207620645 and parameters: {'leaky_rate': 0.9350818539300595, 'spectral radius': 338, 'hidden_size': 477}. Best is trial 200 with value: 0.0003095464164933837.\n",
            "[I 2024-01-23 20:04:42,798] Trial 246 finished with value: 0.000499138786477426 and parameters: {'leaky_rate': 0.9332043887527136, 'spectral radius': 330, 'hidden_size': 491}. Best is trial 200 with value: 0.0003095464164933837.\n",
            "[I 2024-01-23 20:06:43,536] Trial 247 finished with value: 0.0004103620205378034 and parameters: {'leaky_rate': 0.9368229834740694, 'spectral radius': 348, 'hidden_size': 479}. Best is trial 200 with value: 0.0003095464164933837.\n",
            "[I 2024-01-23 20:08:00,704] Trial 248 finished with value: 0.0009566396436811909 and parameters: {'leaky_rate': 0.9312351720898022, 'spectral radius': 423, 'hidden_size': 378}. Best is trial 200 with value: 0.0003095464164933837.\n",
            "[I 2024-01-23 20:10:17,843] Trial 249 finished with value: 0.0008176176958480398 and parameters: {'leaky_rate': 1.0448042155898631, 'spectral radius': 450, 'hidden_size': 495}. Best is trial 200 with value: 0.0003095464164933837.\n",
            "[I 2024-01-23 20:12:15,866] Trial 250 finished with value: 0.0006832797071700155 and parameters: {'leaky_rate': 0.9472815469056095, 'spectral radius': 416, 'hidden_size': 468}. Best is trial 200 with value: 0.0003095464164933837.\n",
            "[I 2024-01-23 20:14:50,294] Trial 251 finished with value: 0.0005170894310026816 and parameters: {'leaky_rate': 0.9247327949853088, 'spectral radius': 434, 'hidden_size': 509}. Best is trial 200 with value: 0.0003095464164933837.\n",
            "[I 2024-01-23 20:16:27,341] Trial 252 finished with value: 0.0011489042866798561 and parameters: {'leaky_rate': 1.0374699526679252, 'spectral radius': 459, 'hidden_size': 413}. Best is trial 200 with value: 0.0003095464164933837.\n",
            "[I 2024-01-23 20:17:55,032] Trial 253 finished with value: 0.000538020316767268 and parameters: {'leaky_rate': 0.9445386777604001, 'spectral radius': 406, 'hidden_size': 392}. Best is trial 200 with value: 0.0003095464164933837.\n",
            "[I 2024-01-23 20:20:12,049] Trial 254 finished with value: 0.0009021177228280396 and parameters: {'leaky_rate': 0.9377047330386956, 'spectral radius': 442, 'hidden_size': 482}. Best is trial 200 with value: 0.0003095464164933837.\n"
          ]
        }
      ],
      "source": [
        "study = optuna.create_study(direction='minimize')\n",
        "study.optimize(objective, n_trials=300)"
      ]
    },
    {
      "cell_type": "code",
      "execution_count": null,
      "metadata": {
        "id": "5WrNVhQk1Yrr"
      },
      "outputs": [],
      "source": [
        "study.best_params"
      ]
    },
    {
      "cell_type": "markdown",
      "metadata": {
        "id": "IdOAWDsrt-dY"
      },
      "source": [
        "#visualize one step ahead prediction"
      ]
    },
    {
      "cell_type": "code",
      "execution_count": null,
      "metadata": {
        "id": "GITfhRsqrWC5"
      },
      "outputs": [],
      "source": [
        "esn = get_esn(get_activation(leaky_rate = study.best_params['leaky_rate'],\n",
        "                             radius = study.best_params['spectral radius']),\n",
        "              hidden_size = study.best_params['hidden_size'], input_size = 1)\n",
        "esn.fit(X, y)"
      ]
    },
    {
      "cell_type": "code",
      "execution_count": null,
      "metadata": {
        "id": "sVqNu-xJzCSQ"
      },
      "outputs": [],
      "source": [
        "X_test.shape, y_test.shape"
      ]
    },
    {
      "cell_type": "code",
      "execution_count": null,
      "metadata": {
        "id": "kWxYRSJGy3MI"
      },
      "outputs": [],
      "source": [
        "output = esn(X_test)\n",
        "# evaluate\n",
        "n = nrmse(output, y_test).item()\n",
        "print('value of nrmse metric: ',n)\n",
        "# plot\n",
        "print(output.shape)\n",
        "print(y_test.shape)"
      ]
    },
    {
      "cell_type": "code",
      "execution_count": null,
      "metadata": {
        "id": "0HyWmlbA7uMu"
      },
      "outputs": [],
      "source": [
        "plt.plot(range(len(X_test)), output.view(-1).detach().numpy(), 'r', label = 'results')\n",
        "plt.plot(range(len(X_test)), y_test.view(-1).detach().numpy(), 'b', label = 'test y')\n",
        "leg = plt.legend(loc='upper right')\n",
        "plt.show()"
      ]
    },
    {
      "cell_type": "code",
      "execution_count": null,
      "metadata": {
        "id": "sbTiSLkpzpSR"
      },
      "outputs": [],
      "source": [
        "from sklearn.metrics import mean_squared_error\n",
        "from sklearn.metrics import mean_absolute_percentage_error\n",
        "from sklearn.metrics import mean_absolute_percentage_error\n",
        "# from sklearn.metrics import root_mean_squared_error\n",
        "import math\n",
        "\n",
        "print('values for one step ahead prediction')\n",
        "print('nrmse : ',n)\n",
        "print('mse : ', mean_squared_error(output, y_test))\n",
        "print('mape : ', mean_absolute_percentage_error(output, y_test))\n",
        "print('rmse : ',  math.sqrt(mean_squared_error(output, y_test)))"
      ]
    },
    {
      "cell_type": "markdown",
      "metadata": {
        "id": "vJUD6_Ygx_Qi"
      },
      "source": [
        "### Extrapolation multistep ahead prediction\n"
      ]
    },
    {
      "cell_type": "code",
      "execution_count": null,
      "metadata": {
        "id": "bSyG3Nl2zWsW"
      },
      "outputs": [],
      "source": [
        "steps_ahead = 40\n",
        "past_steps = 100"
      ]
    },
    {
      "cell_type": "code",
      "execution_count": null,
      "metadata": {
        "id": "WHeRgZxf-f53"
      },
      "outputs": [],
      "source": [
        "train_y = []\n",
        "train_X = []\n",
        "for i in range(past_steps, len(mg_train)-steps_ahead):\n",
        "    train_y.append(mg_train['y'].values[i+1:i+steps_ahead+1])\n",
        "    train_X.append(mg_train['y'].values[i-past_steps:i])"
      ]
    },
    {
      "cell_type": "code",
      "execution_count": null,
      "metadata": {
        "id": "u7GsMQA0_WZ7"
      },
      "outputs": [],
      "source": [
        "test_y = []\n",
        "test_X = []\n",
        "for i in range(past_steps, len(mg_val)-steps_ahead):\n",
        "    test_y.append(mg_val['y'].values[i+1:i+steps_ahead+1])\n",
        "    test_X.append(mg_val['y'].values[i-past_steps:i])"
      ]
    },
    {
      "cell_type": "code",
      "execution_count": null,
      "metadata": {
        "id": "hwKgtduG-uMQ"
      },
      "outputs": [],
      "source": [
        "train_y = data_to_torch(np.array(train_y))\n",
        "train_X = data_to_torch(np.array(train_X))"
      ]
    },
    {
      "cell_type": "code",
      "execution_count": null,
      "metadata": {
        "id": "aX-EruZi_eIF"
      },
      "outputs": [],
      "source": [
        "test_y = data_to_torch(np.array(test_y))\n",
        "test_X = data_to_torch(np.array(test_X))"
      ]
    },
    {
      "cell_type": "code",
      "execution_count": null,
      "metadata": {
        "id": "PEx4Rjud0PSI"
      },
      "outputs": [],
      "source": [
        "train_X.shape, train_y.shape"
      ]
    },
    {
      "cell_type": "code",
      "execution_count": null,
      "metadata": {
        "id": "Z0TXPxEj0bMw"
      },
      "outputs": [],
      "source": [
        "X, X_test, y, y_test = train_X, test_X, train_y, test_y\n",
        "print(X.shape, X_test.shape)\n",
        "X = torch.reshape(X, (X.shape[0],past_steps))\n",
        "y = torch.reshape(y, (y.shape[0],steps_ahead))\n",
        "\n",
        "X_test = torch.reshape(X_test, (X_test.shape[0],past_steps))\n",
        "y_test = torch.reshape(y_test, (y_test.shape[0],steps_ahead))\n",
        "\n",
        "activation = self_normalizing_default(leaky_rate=1, spectral_radius=120)\n",
        "seed = 70"
      ]
    },
    {
      "cell_type": "code",
      "execution_count": null,
      "metadata": {
        "id": "8FhAtyTF2j0P"
      },
      "outputs": [],
      "source": [
        "def objective(trial):\n",
        "    activation = get_activation(\n",
        "        leaky_rate = trial.suggest_float(\"leaky_rate\", 0.85, 1.2),\n",
        "        radius = trial.suggest_int(\"spectral radius\", 100,800))\n",
        "    esn = get_esn(activation, input_size = 100,hidden_size = trial.suggest_int(\"hidden_size\",100,550))\n",
        "    esn.fit(X, y)\n",
        "    output = esn(X_test)\n",
        "    return nrmse(output, y_test).item()"
      ]
    },
    {
      "cell_type": "code",
      "execution_count": null,
      "metadata": {
        "id": "Tck9ilqm2nW7"
      },
      "outputs": [],
      "source": [
        "study = optuna.create_study(direction='minimize')\n",
        "study.optimize(objective, n_trials=300)"
      ]
    },
    {
      "cell_type": "code",
      "execution_count": null,
      "metadata": {
        "id": "uVIcDQ1O0l8v"
      },
      "outputs": [],
      "source": [
        "esn = get_esn(get_activation(leaky_rate = study.best_params['leaky_rate'],\n",
        "                             radius = study.best_params['spectral radius']),\n",
        "              hidden_size = study.best_params['hidden_size'], input_size = past_steps)"
      ]
    },
    {
      "cell_type": "code",
      "execution_count": null,
      "metadata": {
        "id": "MLgWFmxy2s0F"
      },
      "outputs": [],
      "source": [
        "esn.fit(X, y)"
      ]
    },
    {
      "cell_type": "code",
      "execution_count": null,
      "metadata": {
        "id": "pdCYh662yTb0"
      },
      "outputs": [],
      "source": [
        "output = esn(X_test)\n",
        "# evaluate\n",
        "n = nrmse(output, y_test).item()\n",
        "print('value of nrmse metric: ',n)\n",
        "print('mse : ', mean_squared_error(output, y_test))\n",
        "print('mape : ', mean_absolute_percentage_error(output, y_test))\n",
        "print('rmse : ',  math.sqrt(mean_squared_error(output, y_test)))\n",
        "# plot\n",
        "print(output.shape)\n",
        "print(y_test.shape)"
      ]
    },
    {
      "cell_type": "code",
      "execution_count": null,
      "metadata": {
        "id": "Rjei-CtnAIPQ"
      },
      "outputs": [],
      "source": [
        "plt.plot(range(steps_ahead), output[0], 'r', label = 'results')\n",
        "plt.plot(range(steps_ahead), y_test[0], 'b', label = 'test y')\n",
        "leg = plt.legend(loc='upper right')\n",
        "plt.show()"
      ]
    }
  ],
  "metadata": {
    "colab": {
      "provenance": []
    },
    "kernelspec": {
      "display_name": "Python 3",
      "name": "python3"
    },
    "language_info": {
      "name": "python"
    }
  },
  "nbformat": 4,
  "nbformat_minor": 0
}